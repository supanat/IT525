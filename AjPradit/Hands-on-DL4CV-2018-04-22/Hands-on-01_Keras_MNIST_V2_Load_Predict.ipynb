{
 "cells": [
  {
   "cell_type": "markdown",
   "metadata": {},
   "source": [
    "### Import used modules"
   ]
  },
  {
   "cell_type": "code",
   "execution_count": 1,
   "metadata": {},
   "outputs": [
    {
     "name": "stderr",
     "output_type": "stream",
     "text": [
      "Using TensorFlow backend.\n"
     ]
    }
   ],
   "source": [
    "import keras\n",
    "from keras.models import load_model\n",
    "from scipy import misc\n",
    "import matplotlib.pyplot as plt\n",
    "import numpy as np\n",
    "%matplotlib inline"
   ]
  },
  {
   "cell_type": "markdown",
   "metadata": {},
   "source": [
    "### Load trained model \n",
    "Suppose that the file \"Hands-on-01_Keras_MNIST_V2.h5\" in the current directory"
   ]
  },
  {
   "cell_type": "code",
   "execution_count": 2,
   "metadata": {},
   "outputs": [],
   "source": [
    "# Specify your input file \n",
    "model = load_model('Hands-on-01_Keras_MNIST_V2.h5')"
   ]
  },
  {
   "cell_type": "markdown",
   "metadata": {},
   "source": [
    "### Read the input image \n",
    "Suppose that the file \"test_digit_0.jpg\" in the current directory e.g. 'test_digit_0.jpg'.\n",
    "\n",
    "You can try to change the input file to others, e.g. test_digit_x.jpg x=0-9"
   ]
  },
  {
   "cell_type": "code",
   "execution_count": 3,
   "metadata": {},
   "outputs": [],
   "source": [
    "# load the input image from file e.g. 'test_digit_0.jpg'\n",
    "# You can try to change the input file\n",
    "test_im=misc.imread('test_digit_5.jpg')"
   ]
  },
  {
   "cell_type": "markdown",
   "metadata": {},
   "source": [
    "### Plot the input image"
   ]
  },
  {
   "cell_type": "code",
   "execution_count": 4,
   "metadata": {},
   "outputs": [
    {
     "data": {
      "text/plain": [
       "<matplotlib.image.AxesImage at 0x7a0fca86a0>"
      ]
     },
     "execution_count": 4,
     "metadata": {},
     "output_type": "execute_result"
    },
    {
     "data": {
      "image/png": "[encoded data removed]",
      "text/plain": [
       "<matplotlib.figure.Figure at 0x7a0fc0d470>"
      ]
     },
     "metadata": {},
     "output_type": "display_data"
    }
   ],
   "source": [
    "plt.imshow(test_im, cmap='Greys_r')"
   ]
  },
  {
   "cell_type": "code",
   "execution_count": 5,
   "metadata": {},
   "outputs": [
    {
     "data": {
      "text/plain": [
       "array([[  0,   0,   0,   0,   0,   0,   0,   0,   3,   0,   0,   4,   0,\n",
       "          0,   3,   0,  10,   0,   0,   0,   5,   0,   0,   0,   0,   0,\n",
       "          0,   0],\n",
       "       [  0,   0,   0,   0,   0,   0,   0,   0,   0,  21,  10,   0,   9,\n",
       "          6,   0,   3,   0,   2,  11,   8,   0,   0,   2,   6,   0,   0,\n",
       "          0,   0],\n",
       "       [  0,   0,   0,   0,   0,   0,   0,   0,   9,   0,   0,   0,   0,\n",
       "          0,   3,   0,   0,   3,   0,   0,   0,   0,   3,   0,   0,   0,\n",
       "          0,   0],\n",
       "       [  0,   0,   0,   0,   0,   0,   0,   0,  21,   0,   7,   8,   0,\n",
       "          0,  20,   0,   0,   3,   5,   7,  10,  10,   1,   0,   0,   0,\n",
       "          0,   0],\n",
       "       [  0,   0,   0,   0,   0,   0,   0,   0,   0,   7,  10,   0,  55,\n",
       "        130, 213, 255, 253, 240, 205, 139,  52,   0,   0,  19,   0,   0,\n",
       "          0,   0],\n",
       "       [  0,   0,   0,   0,   0,   0,   0,   0, 118, 152, 193, 200, 255,\n",
       "        248, 247, 237, 154,  80,  11,   0,   3,   2,   0,   0,   0,   0,\n",
       "          0,   0],\n",
       "       [  0,   0,   0,   0,   0,   0,   0,   0, 243, 246, 250, 189, 167,\n",
       "        107,  72,  16,   2,   0,   0,   2,   2,   0,   0,   2,   0,   0,\n",
       "          0,   0],\n",
       "       [  0,   0,   0,   0,   0,   0,   0,   0, 172, 255, 201,   4,   0,\n",
       "          0,   7,   0,   3,   4,   4,   4,   2,   1,   1,   1,   0,   0,\n",
       "          0,   0],\n",
       "       [  4,   4,   1,   0,   0,   0,   0,   1,  25, 221, 236,  18,   1,\n",
       "          0,  15,   0,   1,   3,   0,   1,   0,   0,   2,   4,   0,   0,\n",
       "          0,   0],\n",
       "       [  1,   1,   0,   0,   1,   2,   0,   0,   0, 129, 248,  59,  13,\n",
       "          0,   0,   0,   9,   0,   0,   8,   0,  28,   0,   1,   0,   0,\n",
       "          0,   0],\n",
       "       [  0,   0,   0,   2,   3,   1,   0,   0,   0, 117, 248,  89,  40,\n",
       "         58,  55,  12,   0,   5,   0,   0,  13,   0,   2,   1,   0,   0,\n",
       "          0,   0],\n",
       "       [  0,   0,   1,   1,   0,   0,   0,   4,  35, 194, 255, 255, 241,\n",
       "        255, 255, 153,  89,   0,   9,   8,   6,   0,   0,   4,   0,   0,\n",
       "          0,   0],\n",
       "       [  0,   0,   2,   0,   0,   0,   7,  25, 212, 255, 181, 161, 108,\n",
       "        106, 198, 233, 247, 255,  39,   2,   0,  11,   9,   2,   0,   0,\n",
       "          0,   0],\n",
       "       [  0,   0,   2,   2,   0,   0,  14,  36, 249, 167,   5,   0,   0,\n",
       "          5,   0,  28, 129, 184, 249, 229,  50,   0,   0,   0,   0,   0,\n",
       "          0,   0],\n",
       "       [  1,   0,   0,   4,   1,   0,   6,  20,   2,   2,   0,   0,   5,\n",
       "         13,   0,   0,   0,   0, 105, 203, 220,  55,  19,   2,   0,   0,\n",
       "          0,   0],\n",
       "       [  4,   0,   0,   4,   3,   0,   0,   0,   0,   0,  11,   0,   0,\n",
       "          0,   8,   1,   0,   5,  11,   9, 220, 234,  64,   2,   0,   0,\n",
       "          0,   0],\n",
       "       [  5,   0,   0,   0,   0,   4,   8,   0,   0,   9,   0,  16,   0,\n",
       "          0,  10,   0,   0,  13,   0,   1,  61, 206, 236, 115,   0,   0,\n",
       "          0,   0],\n",
       "       [  0,   0,   5,  13,   3,   0,   0,   0,   0,   0,   0,   4,   0,\n",
       "         10,   0,   0,  13,   0,  12,   0,   7,  22, 201, 240,   0,   0,\n",
       "          0,   0],\n",
       "       [  0,   0,   3,   3,   0,   0,   2,   5,   0,  16,   2,  15,   0,\n",
       "          0,   5,   0,   0,  18,   0,   0,   0,   2, 157, 255,   0,   0,\n",
       "          0,   0],\n",
       "       [  2,   9,   1,   0,   0,   7,   3,   0,   6,   0,   0,   0,   0,\n",
       "         16,   0,   2,  18,   0,   0,   9,   5,  45, 229, 201,   0,   0,\n",
       "          0,   0],\n",
       "       [  0,   3,   0,   0,   6,   0,   0,   8, 118, 101,   0,  15,   7,\n",
       "          0,   6,   5,   0,  16,  12,   0,  23, 172, 247,  47,   0,   0,\n",
       "          0,   0],\n",
       "       [  0,   0,   0,   7,  11,   0,   8,  76, 245, 158,   0,   0,   0,\n",
       "          0,   4,   0,  19,  98, 104, 196, 233, 207,  81,   2,   0,   0,\n",
       "          0,   0],\n",
       "       [  3,   0,   0,   0,   7,   0,  14,  82, 255, 229, 245, 173, 152,\n",
       "        203, 158, 254, 255, 233, 255, 210, 148,  23,   6,   0,   0,   0,\n",
       "          0,   0],\n",
       "       [  0,  13,   1,   0,   9,   2,   0,   5,  66, 166, 146, 221, 249,\n",
       "        212, 204, 146, 126,  65,  43,   4,   7,   0,   0,  10,   0,   0,\n",
       "          0,   0],\n",
       "       [  0,   0,   0,   0,   0,   0,   0,   0,   0,   0,   0,   0,   0,\n",
       "          0,   0,   0,   0,   0,   0,   0,   0,   0,   0,   0,   0,   0,\n",
       "          0,   0],\n",
       "       [  0,   0,   0,   0,   0,   0,   0,   0,   0,   0,   0,   0,   0,\n",
       "          0,   0,   0,   0,   0,   0,   0,   0,   0,   0,   0,   0,   0,\n",
       "          0,   0],\n",
       "       [  0,   0,   0,   0,   0,   0,   0,   0,   0,   0,   0,   0,   0,\n",
       "          0,   0,   0,   0,   0,   0,   0,   0,   0,   0,   0,   0,   0,\n",
       "          0,   0],\n",
       "       [  0,   0,   0,   0,   0,   0,   0,   0,   0,   0,   0,   0,   0,\n",
       "          0,   0,   0,   0,   0,   0,   0,   0,   0,   0,   0,   0,   0,\n",
       "          0,   0]], dtype=uint8)"
      ]
     },
     "execution_count": 5,
     "metadata": {},
     "output_type": "execute_result"
    }
   ],
   "source": [
    "test_im"
   ]
  },
  {
   "cell_type": "markdown",
   "metadata": {},
   "source": [
    "### Reshape the image into the vector and make the pixel values in the range [0-1]"
   ]
  },
  {
   "cell_type": "code",
   "execution_count": null,
   "metadata": {},
   "outputs": [],
   "source": [
    "# Reshape the image into 1x784\n",
    "test_im_vec = test_im[:].reshape(28*28)\n",
    "test_im_vec = test_im_vec / 255\n",
    "# Scale to 0-1 by dividing by 255\n",
    "test_im_vec=np.array([test_im_vec])"
   ]
  },
  {
   "cell_type": "markdown",
   "metadata": {},
   "source": [
    "### Let the model predict the test_im_vec"
   ]
  },
  {
   "cell_type": "code",
   "execution_count": null,
   "metadata": {},
   "outputs": [],
   "source": [
    "# let the model predict the test_im_vec\n",
    "y_pred=model.predict(test_im_vec)"
   ]
  },
  {
   "cell_type": "markdown",
   "metadata": {},
   "source": [
    "### Show the values of output units (softmax activation)"
   ]
  },
  {
   "cell_type": "code",
   "execution_count": null,
   "metadata": {},
   "outputs": [],
   "source": [
    "# Show the values of output units (softmax activation)\n",
    "np.set_printoptions(precision=5,suppress=True)\n",
    "print(\"y_pred= \",y_pred)"
   ]
  },
  {
   "cell_type": "markdown",
   "metadata": {},
   "source": [
    "### Display the predicted class (the index of output that gives the maximum number"
   ]
  },
  {
   "cell_type": "code",
   "execution_count": null,
   "metadata": {},
   "outputs": [],
   "source": [
    "# Display the predicted class (the index of output that gives the maximum number\n",
    "pred_class=np.argmax(y_pred)\n",
    "print(\"Predicted class = \", pred_class)"
   ]
  }
 ],
 "metadata": {
  "kernelspec": {
   "display_name": "Python 3",
   "language": "python",
   "name": "python3"
  },
  "language_info": {
   "codemirror_mode": {
    "name": "ipython",
    "version": 3
   },
   "file_extension": ".py",
   "mimetype": "text/x-python",
   "name": "python",
   "nbconvert_exporter": "python",
   "pygments_lexer": "ipython3",
   "version": "3.6.3"
  }
 },
 "nbformat": 4,
 "nbformat_minor": 2
}
