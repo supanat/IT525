{
 "cells": [
  {
   "cell_type": "markdown",
   "metadata": {},
   "source": [
    "### Homework-01"
   ]
  },
  {
   "cell_type": "markdown",
   "metadata": {},
   "source": [
    "Supanat Jintawatsakoon<br>supanat.jtk@g.swu.ac.th"
   ]
  },
  {
   "cell_type": "markdown",
   "metadata": {},
   "source": [
    "### 2. Data Wrangling and Pre-processing"
   ]
  },
  {
   "cell_type": "markdown",
   "metadata": {},
   "source": [
    "2.1 ทําการอิมพอร์ตเพ็กเก็จและกําหนดค่าต่างๆที่จําเป็น"
   ]
  },
  {
   "cell_type": "code",
   "execution_count": 2,
   "metadata": {
    "collapsed": true
   },
   "outputs": [],
   "source": [
    "import os\n",
    "import pandas as pd\n",
    "import numpy as np\n",
    "import matplotlib.pyplot as plt \n",
    "%matplotlib inline"
   ]
  },
  {
   "cell_type": "markdown",
   "metadata": {},
   "source": [
    "2.2 เปลี่ยนไดเร็กทอรี่ไปที่ไดเร็กทอรี่ที่มีไฟล์ชุดข้อมูลอยู่และทําการอ่านไฟล์ชุดข้อมูลไปเก็บไว้ในตัวแปรชื่อ df"
   ]
  },
  {
   "cell_type": "code",
   "execution_count": 53,
   "metadata": {},
   "outputs": [
    {
     "data": {
      "text/plain": [
       "'/Users/supanat/Dev/DS/IT525/Projects/it525_2_2017_hw01/dataset/hw01_burger_king_nutrition_fact_sheet.csv'"
      ]
     },
     "execution_count": 53,
     "metadata": {},
     "output_type": "execute_result"
    }
   ],
   "source": [
    "path = os.getcwd()\n",
    "path += \"/dataset/\"\n",
    "fileName = \"hw01_burger_king_nutrition_fact_sheet.csv\";\n",
    "fullPath = path+fileName\n",
    "fullPath"
   ]
  },
  {
   "cell_type": "code",
   "execution_count": 33,
   "metadata": {},
   "outputs": [
    {
     "data": {
      "text/html": [
       "<div>\n",
       "<style>\n",
       "    .dataframe thead tr:only-child th {\n",
       "        text-align: right;\n",
       "    }\n",
       "\n",
       "    .dataframe thead th {\n",
       "        text-align: left;\n",
       "    }\n",
       "\n",
       "    .dataframe tbody tr th {\n",
       "        vertical-align: top;\n",
       "    }\n",
       "</style>\n",
       "<table border=\"1\" class=\"dataframe\">\n",
       "  <thead>\n",
       "    <tr style=\"text-align: right;\">\n",
       "      <th></th>\n",
       "      <th>Nutrition facts</th>\n",
       "      <th>serving size (g)</th>\n",
       "      <th>Calories</th>\n",
       "      <th>Calories from fat</th>\n",
       "      <th>Total fat (g)</th>\n",
       "      <th>Saturated Fat (g)</th>\n",
       "      <th>Trans Fat (g)</th>\n",
       "      <th>Chol (mg)</th>\n",
       "      <th>Sodium (mg)</th>\n",
       "      <th>Total Carb (g)</th>\n",
       "      <th>Dietary Fiber (g)</th>\n",
       "      <th>Total Sugar (g)</th>\n",
       "      <th>Protein (g)</th>\n",
       "    </tr>\n",
       "  </thead>\n",
       "  <tbody>\n",
       "    <tr>\n",
       "      <th>0</th>\n",
       "      <td>WHOPPER® Sandwiches</td>\n",
       "      <td>NaN</td>\n",
       "      <td>NaN</td>\n",
       "      <td>NaN</td>\n",
       "      <td>NaN</td>\n",
       "      <td>NaN</td>\n",
       "      <td>NaN</td>\n",
       "      <td>NaN</td>\n",
       "      <td>NaN</td>\n",
       "      <td>NaN</td>\n",
       "      <td>NaN</td>\n",
       "      <td>NaN</td>\n",
       "      <td>NaN</td>\n",
       "    </tr>\n",
       "    <tr>\n",
       "      <th>1</th>\n",
       "      <td>WHOPPER® Sandwich</td>\n",
       "      <td>270</td>\n",
       "      <td>660.0</td>\n",
       "      <td>360.0</td>\n",
       "      <td>40.0</td>\n",
       "      <td>12.0</td>\n",
       "      <td>1.5</td>\n",
       "      <td>90.0</td>\n",
       "      <td>980.0</td>\n",
       "      <td>49</td>\n",
       "      <td>2.0</td>\n",
       "      <td>11.0</td>\n",
       "      <td>28.0</td>\n",
       "    </tr>\n",
       "    <tr>\n",
       "      <th>2</th>\n",
       "      <td>w/o Mayo</td>\n",
       "      <td>249</td>\n",
       "      <td>500.0</td>\n",
       "      <td>200.0</td>\n",
       "      <td>22.0</td>\n",
       "      <td>9.0</td>\n",
       "      <td>1.5</td>\n",
       "      <td>80.0</td>\n",
       "      <td>840.0</td>\n",
       "      <td>49</td>\n",
       "      <td>2.0</td>\n",
       "      <td>11.0</td>\n",
       "      <td>28.0</td>\n",
       "    </tr>\n",
       "    <tr>\n",
       "      <th>3</th>\n",
       "      <td>WHOPPER® Sandwich with Cheese</td>\n",
       "      <td>292</td>\n",
       "      <td>740.0</td>\n",
       "      <td>420.0</td>\n",
       "      <td>46.0</td>\n",
       "      <td>16.0</td>\n",
       "      <td>2.0</td>\n",
       "      <td>115.0</td>\n",
       "      <td>1340.0</td>\n",
       "      <td>50</td>\n",
       "      <td>2.0</td>\n",
       "      <td>11.0</td>\n",
       "      <td>32.0</td>\n",
       "    </tr>\n",
       "    <tr>\n",
       "      <th>4</th>\n",
       "      <td>w/o Mayo</td>\n",
       "      <td>271</td>\n",
       "      <td>580.0</td>\n",
       "      <td>260.0</td>\n",
       "      <td>29.0</td>\n",
       "      <td>13.0</td>\n",
       "      <td>1.5</td>\n",
       "      <td>105.0</td>\n",
       "      <td>1200.0</td>\n",
       "      <td>50</td>\n",
       "      <td>2.0</td>\n",
       "      <td>11.0</td>\n",
       "      <td>32.0</td>\n",
       "    </tr>\n",
       "  </tbody>\n",
       "</table>\n",
       "</div>"
      ],
      "text/plain": [
       "                 Nutrition facts  serving size (g)   Calories  \\\n",
       "0            WHOPPER® Sandwiches               NaN        NaN   \n",
       "1              WHOPPER® Sandwich               270      660.0   \n",
       "2                       w/o Mayo               249      500.0   \n",
       "3  WHOPPER® Sandwich with Cheese               292      740.0   \n",
       "4                       w/o Mayo               271      580.0   \n",
       "\n",
       "    Calories from fat   Total fat (g)   Saturated Fat (g)   Trans Fat (g)  \\\n",
       "0                 NaN             NaN                 NaN             NaN   \n",
       "1               360.0            40.0                12.0             1.5   \n",
       "2               200.0            22.0                 9.0             1.5   \n",
       "3               420.0            46.0                16.0             2.0   \n",
       "4               260.0            29.0                13.0             1.5   \n",
       "\n",
       "    Chol (mg)   Sodium (mg)  Total Carb (g)   Dietary Fiber (g)  \\\n",
       "0         NaN           NaN             NaN                 NaN   \n",
       "1        90.0         980.0              49                 2.0   \n",
       "2        80.0         840.0              49                 2.0   \n",
       "3       115.0        1340.0              50                 2.0   \n",
       "4       105.0        1200.0              50                 2.0   \n",
       "\n",
       "    Total Sugar (g)   Protein (g)  \n",
       "0               NaN           NaN  \n",
       "1              11.0          28.0  \n",
       "2              11.0          28.0  \n",
       "3              11.0          32.0  \n",
       "4              11.0          32.0  "
      ]
     },
     "execution_count": 33,
     "metadata": {},
     "output_type": "execute_result"
    }
   ],
   "source": [
    "df = pd.read_csv(fullPath)\n",
    "df.head()"
   ]
  },
  {
   "cell_type": "markdown",
   "metadata": {},
   "source": [
    "2.3 แสดงจํานวนแถวและจํานวนคอลัมน์ของชุดข้อมูล"
   ]
  },
  {
   "cell_type": "code",
   "execution_count": 51,
   "metadata": {},
   "outputs": [
    {
     "name": "stdout",
     "output_type": "stream",
     "text": [
      "rows x colums\n",
      "(210, 13)\n",
      "rows count :  210\n",
      "columns count :  13\n"
     ]
    }
   ],
   "source": [
    "rowsCount = df.shape[0]\n",
    "columsCount = df.shape[1]\n",
    "print (\"rows x colums\")\n",
    "print(df.shape)\n",
    "print(\"rows count : \", rowsCount)\n",
    "print(\"columns count : \", columsCount)"
   ]
  },
  {
   "cell_type": "markdown",
   "metadata": {},
   "source": [
    "2.4 แสดงรายชื่อคอลัมน์ที่มีอยู่ในชุดข้อมูล"
   ]
  },
  {
   "cell_type": "code",
   "execution_count": 39,
   "metadata": {},
   "outputs": [
    {
     "data": {
      "text/plain": [
       "Index(['Nutrition facts', ' serving size (g)', ' Calories',\n",
       "       ' Calories from fat', ' Total fat (g)', ' Saturated Fat (g)',\n",
       "       ' Trans Fat (g)', ' Chol (mg)', ' Sodium (mg)', ' Total Carb (g)',\n",
       "       ' Dietary Fiber (g)', ' Total Sugar (g)', ' Protein (g)'],\n",
       "      dtype='object')"
      ]
     },
     "execution_count": 39,
     "metadata": {},
     "output_type": "execute_result"
    }
   ],
   "source": [
    "df.columns"
   ]
  },
  {
   "cell_type": "markdown",
   "metadata": {
    "collapsed": true
   },
   "source": [
    "2.5 ทําการลบช่องว่างที่อยู่หน้าชื่อคอลัมน์ออก เพื่อว่าเวลาอ้างถึงชื่อคอลัมน์จะได้ใช้ชื่อตรงๆได้เลยไม่ต้องพิมพ์ช่องว่าง"
   ]
  },
  {
   "cell_type": "code",
   "execution_count": 54,
   "metadata": {
    "collapsed": true
   },
   "outputs": [],
   "source": [
    "df.columns = map(lambda x: x.strip(), df.columns.values)"
   ]
  },
  {
   "cell_type": "code",
   "execution_count": 56,
   "metadata": {},
   "outputs": [
    {
     "data": {
      "text/plain": [
       "Index(['Nutrition facts', 'serving size (g)', 'Calories', 'Calories from fat',\n",
       "       'Total fat (g)', 'Saturated Fat (g)', 'Trans Fat (g)', 'Chol (mg)',\n",
       "       'Sodium (mg)', 'Total Carb (g)', 'Dietary Fiber (g)', 'Total Sugar (g)',\n",
       "       'Protein (g)'],\n",
       "      dtype='object')"
      ]
     },
     "execution_count": 56,
     "metadata": {},
     "output_type": "execute_result"
    }
   ],
   "source": [
    "df.columns"
   ]
  },
  {
   "cell_type": "code",
   "execution_count": null,
   "metadata": {},
   "outputs": [],
   "source": []
  },
  {
   "cell_type": "code",
   "execution_count": null,
   "metadata": {
    "collapsed": true
   },
   "outputs": [],
   "source": []
  }
 ],
 "metadata": {
  "kernelspec": {
   "display_name": "Python 3",
   "language": "python",
   "name": "python3"
  },
  "language_info": {
   "codemirror_mode": {
    "name": "ipython",
    "version": 3
   },
   "file_extension": ".py",
   "mimetype": "text/x-python",
   "name": "python",
   "nbconvert_exporter": "python",
   "pygments_lexer": "ipython3",
   "version": "3.6.3"
  }
 },
 "nbformat": 4,
 "nbformat_minor": 2
}
