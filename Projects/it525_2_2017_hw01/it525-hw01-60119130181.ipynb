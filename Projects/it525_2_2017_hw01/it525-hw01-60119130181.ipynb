{
 "cells": [
  {
   "cell_type": "markdown",
   "metadata": {},
   "source": [
    "### Homework-01"
   ]
  },
  {
   "cell_type": "markdown",
   "metadata": {},
   "source": [
    "Supanat Jintawatsakoon<br>60199130181<br>supanat.jtk@g.swu.ac.th"
   ]
  },
  {
   "cell_type": "markdown",
   "metadata": {},
   "source": [
    "### 2. Data Wrangling and Pre-processing"
   ]
  },
  {
   "cell_type": "markdown",
   "metadata": {},
   "source": [
    "2.1 ทําการอิมพอร์ตเพ็กเก็จและกําหนดค่าต่างๆที่จําเป็น"
   ]
  },
  {
   "cell_type": "code",
   "execution_count": 1,
   "metadata": {
    "collapsed": true
   },
   "outputs": [],
   "source": [
    "import os\n",
    "import pandas as pd\n",
    "import numpy as np\n",
    "import matplotlib.pyplot as plt \n",
    "from matplotlib import cm\n",
    "from collections import OrderedDict\n",
    "from scipy.stats import zscore\n",
    "import statsmodels.formula.api as smf\n",
    "from sklearn.metrics import mean_squared_error\n",
    "from math import sqrt\n",
    "from sklearn.model_selection import train_test_split\n",
    "from statsmodels.tools.eval_measures import rmse\n",
    "%matplotlib inline"
   ]
  },
  {
   "cell_type": "markdown",
   "metadata": {},
   "source": [
    "2.2 เปลี่ยนไดเร็กทอรี่ไปที่ไดเร็กทอรี่ที่มีไฟล์ชุดข้อมูลอยู่และทําการอ่านไฟล์ชุดข้อมูลไปเก็บไว้ในตัวแปรชื่อ df"
   ]
  },
  {
   "cell_type": "code",
   "execution_count": 2,
   "metadata": {
    "collapsed": true
   },
   "outputs": [],
   "source": [
    "currentPath = os.getcwd()\n",
    "subFolder = \"/dataset/\"\n",
    "os.chdir(currentPath+subFolder)\n",
    "fileName = \"hw01_burger_king_nutrition_fact_sheet.csv\";"
   ]
  },
  {
   "cell_type": "code",
   "execution_count": 3,
   "metadata": {},
   "outputs": [
    {
     "data": {
      "text/html": [
       "<div>\n",
       "<style>\n",
       "    .dataframe thead tr:only-child th {\n",
       "        text-align: right;\n",
       "    }\n",
       "\n",
       "    .dataframe thead th {\n",
       "        text-align: left;\n",
       "    }\n",
       "\n",
       "    .dataframe tbody tr th {\n",
       "        vertical-align: top;\n",
       "    }\n",
       "</style>\n",
       "<table border=\"1\" class=\"dataframe\">\n",
       "  <thead>\n",
       "    <tr style=\"text-align: right;\">\n",
       "      <th></th>\n",
       "      <th>Nutrition facts</th>\n",
       "      <th>serving size (g)</th>\n",
       "      <th>Calories</th>\n",
       "      <th>Calories from fat</th>\n",
       "      <th>Total fat (g)</th>\n",
       "      <th>Saturated Fat (g)</th>\n",
       "      <th>Trans Fat (g)</th>\n",
       "      <th>Chol (mg)</th>\n",
       "      <th>Sodium (mg)</th>\n",
       "      <th>Total Carb (g)</th>\n",
       "      <th>Dietary Fiber (g)</th>\n",
       "      <th>Total Sugar (g)</th>\n",
       "      <th>Protein (g)</th>\n",
       "    </tr>\n",
       "  </thead>\n",
       "  <tbody>\n",
       "    <tr>\n",
       "      <th>0</th>\n",
       "      <td>WHOPPER® Sandwiches</td>\n",
       "      <td>NaN</td>\n",
       "      <td>NaN</td>\n",
       "      <td>NaN</td>\n",
       "      <td>NaN</td>\n",
       "      <td>NaN</td>\n",
       "      <td>NaN</td>\n",
       "      <td>NaN</td>\n",
       "      <td>NaN</td>\n",
       "      <td>NaN</td>\n",
       "      <td>NaN</td>\n",
       "      <td>NaN</td>\n",
       "      <td>NaN</td>\n",
       "    </tr>\n",
       "    <tr>\n",
       "      <th>1</th>\n",
       "      <td>WHOPPER® Sandwich</td>\n",
       "      <td>270</td>\n",
       "      <td>660.0</td>\n",
       "      <td>360.0</td>\n",
       "      <td>40.0</td>\n",
       "      <td>12.0</td>\n",
       "      <td>1.5</td>\n",
       "      <td>90.0</td>\n",
       "      <td>980.0</td>\n",
       "      <td>49</td>\n",
       "      <td>2.0</td>\n",
       "      <td>11.0</td>\n",
       "      <td>28.0</td>\n",
       "    </tr>\n",
       "    <tr>\n",
       "      <th>2</th>\n",
       "      <td>w/o Mayo</td>\n",
       "      <td>249</td>\n",
       "      <td>500.0</td>\n",
       "      <td>200.0</td>\n",
       "      <td>22.0</td>\n",
       "      <td>9.0</td>\n",
       "      <td>1.5</td>\n",
       "      <td>80.0</td>\n",
       "      <td>840.0</td>\n",
       "      <td>49</td>\n",
       "      <td>2.0</td>\n",
       "      <td>11.0</td>\n",
       "      <td>28.0</td>\n",
       "    </tr>\n",
       "    <tr>\n",
       "      <th>3</th>\n",
       "      <td>WHOPPER® Sandwich with Cheese</td>\n",
       "      <td>292</td>\n",
       "      <td>740.0</td>\n",
       "      <td>420.0</td>\n",
       "      <td>46.0</td>\n",
       "      <td>16.0</td>\n",
       "      <td>2.0</td>\n",
       "      <td>115.0</td>\n",
       "      <td>1340.0</td>\n",
       "      <td>50</td>\n",
       "      <td>2.0</td>\n",
       "      <td>11.0</td>\n",
       "      <td>32.0</td>\n",
       "    </tr>\n",
       "    <tr>\n",
       "      <th>4</th>\n",
       "      <td>w/o Mayo</td>\n",
       "      <td>271</td>\n",
       "      <td>580.0</td>\n",
       "      <td>260.0</td>\n",
       "      <td>29.0</td>\n",
       "      <td>13.0</td>\n",
       "      <td>1.5</td>\n",
       "      <td>105.0</td>\n",
       "      <td>1200.0</td>\n",
       "      <td>50</td>\n",
       "      <td>2.0</td>\n",
       "      <td>11.0</td>\n",
       "      <td>32.0</td>\n",
       "    </tr>\n",
       "  </tbody>\n",
       "</table>\n",
       "</div>"
      ],
      "text/plain": [
       "                 Nutrition facts  serving size (g)   Calories  \\\n",
       "0            WHOPPER® Sandwiches               NaN        NaN   \n",
       "1              WHOPPER® Sandwich               270      660.0   \n",
       "2                       w/o Mayo               249      500.0   \n",
       "3  WHOPPER® Sandwich with Cheese               292      740.0   \n",
       "4                       w/o Mayo               271      580.0   \n",
       "\n",
       "    Calories from fat   Total fat (g)   Saturated Fat (g)   Trans Fat (g)  \\\n",
       "0                 NaN             NaN                 NaN             NaN   \n",
       "1               360.0            40.0                12.0             1.5   \n",
       "2               200.0            22.0                 9.0             1.5   \n",
       "3               420.0            46.0                16.0             2.0   \n",
       "4               260.0            29.0                13.0             1.5   \n",
       "\n",
       "    Chol (mg)   Sodium (mg)  Total Carb (g)   Dietary Fiber (g)  \\\n",
       "0         NaN           NaN             NaN                 NaN   \n",
       "1        90.0         980.0              49                 2.0   \n",
       "2        80.0         840.0              49                 2.0   \n",
       "3       115.0        1340.0              50                 2.0   \n",
       "4       105.0        1200.0              50                 2.0   \n",
       "\n",
       "    Total Sugar (g)   Protein (g)  \n",
       "0               NaN           NaN  \n",
       "1              11.0          28.0  \n",
       "2              11.0          28.0  \n",
       "3              11.0          32.0  \n",
       "4              11.0          32.0  "
      ]
     },
     "execution_count": 3,
     "metadata": {},
     "output_type": "execute_result"
    }
   ],
   "source": [
    "df = pd.read_csv(fileName)\n",
    "df.head()"
   ]
  },
  {
   "cell_type": "markdown",
   "metadata": {},
   "source": [
    "2.3 แสดงจํานวนแถวและจํานวนคอลัมน์ของชุดข้อมูล"
   ]
  },
  {
   "cell_type": "code",
   "execution_count": 4,
   "metadata": {},
   "outputs": [
    {
     "data": {
      "text/plain": [
       "13"
      ]
     },
     "execution_count": 4,
     "metadata": {},
     "output_type": "execute_result"
    }
   ],
   "source": [
    "len(df.columns)"
   ]
  },
  {
   "cell_type": "code",
   "execution_count": 5,
   "metadata": {},
   "outputs": [
    {
     "name": "stdout",
     "output_type": "stream",
     "text": [
      "rows x colums\n",
      "(210, 13)\n",
      "rows :  210\n",
      "columns :  13\n"
     ]
    }
   ],
   "source": [
    "print (\"rows x colums\")\n",
    "print(df.shape)\n",
    "print(\"rows : \", df.shape[0])\n",
    "print(\"columns : \", df.shape[1])"
   ]
  },
  {
   "cell_type": "markdown",
   "metadata": {},
   "source": [
    "2.4 แสดงรายชื่อคอลัมน์ที่มีอยู่ในชุดข้อมูล"
   ]
  },
  {
   "cell_type": "code",
   "execution_count": 6,
   "metadata": {},
   "outputs": [
    {
     "data": {
      "text/plain": [
       "Index(['Nutrition facts', ' serving size (g)', ' Calories',\n",
       "       ' Calories from fat', ' Total fat (g)', ' Saturated Fat (g)',\n",
       "       ' Trans Fat (g)', ' Chol (mg)', ' Sodium (mg)', ' Total Carb (g)',\n",
       "       ' Dietary Fiber (g)', ' Total Sugar (g)', ' Protein (g)'],\n",
       "      dtype='object')"
      ]
     },
     "execution_count": 6,
     "metadata": {},
     "output_type": "execute_result"
    }
   ],
   "source": [
    "df.columns"
   ]
  },
  {
   "cell_type": "markdown",
   "metadata": {},
   "source": [
    "2.5 ทําการลบช่องว่างที่อยู่หน้าชื่อคอลัมน์ออก เพื่อว่าเวลาอ้างถึงชื่อคอลัมน์จะได้ใช้ชื่อตรงๆได้เลยไม่ต้องพิมพ์ช่องว่าง"
   ]
  },
  {
   "cell_type": "code",
   "execution_count": 7,
   "metadata": {
    "collapsed": true
   },
   "outputs": [],
   "source": [
    "df.columns = map(lambda x: x.strip(), df.columns.values)"
   ]
  },
  {
   "cell_type": "code",
   "execution_count": 8,
   "metadata": {},
   "outputs": [
    {
     "data": {
      "text/plain": [
       "Index(['Nutrition facts', 'serving size (g)', 'Calories', 'Calories from fat',\n",
       "       'Total fat (g)', 'Saturated Fat (g)', 'Trans Fat (g)', 'Chol (mg)',\n",
       "       'Sodium (mg)', 'Total Carb (g)', 'Dietary Fiber (g)', 'Total Sugar (g)',\n",
       "       'Protein (g)'],\n",
       "      dtype='object')"
      ]
     },
     "execution_count": 8,
     "metadata": {},
     "output_type": "execute_result"
    }
   ],
   "source": [
    "df.columns"
   ]
  },
  {
   "cell_type": "markdown",
   "metadata": {},
   "source": [
    "2.6 นับจํานวนอาหารในชนิด burger, sandwich, salad, และ beverage พร้อมทั้งแสดงภาพโดยใช้ bar graph และ pie chart"
   ]
  },
  {
   "cell_type": "markdown",
   "metadata": {},
   "source": [
    "- นับจํานวนอาหารที่มีอยู่ในแต่ละชนิดที่เป็นburger,sandwich,salad,และbeverage"
   ]
  },
  {
   "cell_type": "code",
   "execution_count": 9,
   "metadata": {
    "collapsed": true
   },
   "outputs": [],
   "source": [
    "mydict = dict()\n",
    "mydict['burger'] = len(df[df['Nutrition facts'].str.contains('burger|Burger')])\n",
    "mydict['sandwich'] = len(df[df['Nutrition facts'].str.contains('Sandwich|Sandwiches')])\n",
    "mydict['salad'] = len(df[df['Nutrition facts'].str.contains('Salad|salad')])\n",
    "mydict['beverage'] = len(df[df['Nutrition facts'].str.contains('Milk|Juice|Shake|Smoothie|Tea|Lemonade|Coke|Coca Cola|Orange|Punch|Sprite|Beer|Pepper')])"
   ]
  },
  {
   "cell_type": "code",
   "execution_count": 10,
   "metadata": {},
   "outputs": [
    {
     "data": {
      "text/plain": [
       "{'beverage': 26, 'burger': 13, 'salad': 6, 'sandwich': 14}"
      ]
     },
     "execution_count": 10,
     "metadata": {},
     "output_type": "execute_result"
    }
   ],
   "source": [
    "mydict"
   ]
  },
  {
   "cell_type": "markdown",
   "metadata": {},
   "source": [
    "- สร้าง bar graph และ pie chart เพื่อแสดงสัดส่วนจํานวนอาหารที่มีอยู่ในแต่ละชนิด โดยให้กราฟทั้ง สองอยู่ใน figure เดียวกัน แต่คนละ subplots"
   ]
  },
  {
   "cell_type": "code",
   "execution_count": 11,
   "metadata": {
    "collapsed": true
   },
   "outputs": [],
   "source": [
    "cmaps = OrderedDict()\n",
    "cmaps['Set1'] = ['Pink', 'yellowgreen', 'lightskyblue', 'Gold',]"
   ]
  },
  {
   "cell_type": "code",
   "execution_count": 12,
   "metadata": {},
   "outputs": [
    {
     "data": {
      "image/png": "[encoded data removed]",
      "text/plain": [
       "<matplotlib.figure.Figure at 0x110d7c6a0>"
      ]
     },
     "metadata": {},
     "output_type": "display_data"
    }
   ],
   "source": [
    "\n",
    "fig,axPlots = plt.subplots(1,2)\n",
    "axPlots[0].bar(mydict.keys(), mydict.values(), width=0.5, align='center', color=cmaps['Set1']) \n",
    "axPlots[0].set_xlabel('Category')\n",
    "axPlots[0].set_ylabel('Amount')\n",
    "axPlots[1].pie(mydict.values(), labels=mydict.keys(), autopct='%1.1f%%', startangle=0, shadow=True, colors=cmaps['Set1']) \n",
    "plt.axis('equal')\n",
    "plt.title('propotions of food in each category')\n",
    "fig.tight_layout()\n",
    "fig.autofmt_xdate()\n"
   ]
  },
  {
   "cell_type": "markdown",
   "metadata": {},
   "source": [
    "2.7 ทําการแทนค่าข้อมูลใน cell ที่มีแต่ช่องว่าง (whitespace) อย่างเดียวด้วย NaN —เนื่องจากข้อมูลในชุดข้อมูลอาจมี ข้อมูลที่เป็นช่องว่าง (whitespace) อย่างเดียว อยู่ โดยอาจจะเป็นความตั้งใจหรือความผิดพลาดของการป้อนข้อมูล หรือสร้างชุดข้อมูลขึ้นมา ซึ่งทําให้โปรแกรมคิดว่ามันเป็นข้อมูลชนิดหนึ่ง ไม่ใช้ข้อมูลที่ขาดหาย (missing value)"
   ]
  },
  {
   "cell_type": "code",
   "execution_count": 13,
   "metadata": {},
   "outputs": [
    {
     "data": {
      "text/plain": [
       "28"
      ]
     },
     "execution_count": 13,
     "metadata": {},
     "output_type": "execute_result"
    }
   ],
   "source": [
    "len(df[df.isnull().any(axis=1)])"
   ]
  },
  {
   "cell_type": "markdown",
   "metadata": {},
   "source": [
    "- แทนค่าข้อมูลที่เป็นช่องว่างอย่างเดียวด้วยNaNเช่นในไฟลNcsvแทนที่,'',ด้วย,NaN,"
   ]
  },
  {
   "cell_type": "code",
   "execution_count": 14,
   "metadata": {
    "collapsed": true
   },
   "outputs": [],
   "source": [
    "df.replace(r'^\\s*$', np.nan, regex=True, inplace=True)"
   ]
  },
  {
   "cell_type": "code",
   "execution_count": 15,
   "metadata": {},
   "outputs": [
    {
     "data": {
      "text/plain": [
       "94"
      ]
     },
     "execution_count": 15,
     "metadata": {},
     "output_type": "execute_result"
    }
   ],
   "source": [
    "len(df[df.isnull().any(axis=1)])"
   ]
  },
  {
   "cell_type": "markdown",
   "metadata": {},
   "source": [
    "2.8 ลบแถวข้อมูลที่มีค่าNaNอยู่ไม่ว่าจะมีแค่คอลัมน์เดียวหรือทุกคอลัมน์ในแถวข้อมูลนั้นๆ"
   ]
  },
  {
   "cell_type": "markdown",
   "metadata": {},
   "source": [
    "- แสดงลิสต์ของ row indices ที่มีค่า NaN"
   ]
  },
  {
   "cell_type": "code",
   "execution_count": 16,
   "metadata": {
    "collapsed": true
   },
   "outputs": [],
   "source": [
    "r_index = df[df.isnull().any(axis=1)].index.tolist()\n",
    "#r_index"
   ]
  },
  {
   "cell_type": "markdown",
   "metadata": {},
   "source": [
    "- แสดงจํานวนแถวข้อมูลที่มีค่า NaN อยู่ ซึ่งควรมี 94 แถว"
   ]
  },
  {
   "cell_type": "code",
   "execution_count": 17,
   "metadata": {},
   "outputs": [
    {
     "data": {
      "text/plain": [
       "94"
      ]
     },
     "execution_count": 17,
     "metadata": {},
     "output_type": "execute_result"
    }
   ],
   "source": [
    "len(r_index)"
   ]
  },
  {
   "cell_type": "markdown",
   "metadata": {},
   "source": [
    "- ทําการลบแถวข้อมูลที่มีค่าNaNอยู่"
   ]
  },
  {
   "cell_type": "code",
   "execution_count": 18,
   "metadata": {
    "collapsed": true
   },
   "outputs": [],
   "source": [
    "#df.drop(r_index,inplace=True)\n",
    "#df.reset_index(drop=True)\n",
    "df.drop(r_index,inplace=True)\n"
   ]
  },
  {
   "cell_type": "markdown",
   "metadata": {},
   "source": [
    "- ตรวจสอบจํานวนแถวของชุดข้อมูลหลังจากลบแถวที่มีค่า NaN ออกแล้ว ซึ่งควรเท่ากับ 210 − 94 = 116"
   ]
  },
  {
   "cell_type": "code",
   "execution_count": 19,
   "metadata": {},
   "outputs": [
    {
     "name": "stdout",
     "output_type": "stream",
     "text": [
      "number of rows:  116\n"
     ]
    }
   ],
   "source": [
    "print(\"number of rows: \", df.shape[0])"
   ]
  },
  {
   "cell_type": "markdown",
   "metadata": {},
   "source": [
    "2.9 ตรวจสอบชนิดของข้อมูลในแต่ละคอลัมน์ ใน Pandas DataFrame"
   ]
  },
  {
   "cell_type": "code",
   "execution_count": 20,
   "metadata": {},
   "outputs": [
    {
     "data": {
      "text/plain": [
       "Nutrition facts       object\n",
       "serving size (g)      object\n",
       "Calories             float64\n",
       "Calories from fat    float64\n",
       "Total fat (g)        float64\n",
       "Saturated Fat (g)    float64\n",
       "Trans Fat (g)        float64\n",
       "Chol (mg)            float64\n",
       "Sodium (mg)          float64\n",
       "Total Carb (g)        object\n",
       "Dietary Fiber (g)    float64\n",
       "Total Sugar (g)      float64\n",
       "Protein (g)          float64\n",
       "dtype: object"
      ]
     },
     "execution_count": 20,
     "metadata": {},
     "output_type": "execute_result"
    }
   ],
   "source": [
    "df.dtypes"
   ]
  },
  {
   "cell_type": "markdown",
   "metadata": {},
   "source": [
    "- แปลงข้อมูลในคอลัมน์ serving size (g) และ Total Carb (g) จากชนิด object ไปเป็น float64"
   ]
  },
  {
   "cell_type": "code",
   "execution_count": 21,
   "metadata": {
    "collapsed": true
   },
   "outputs": [],
   "source": [
    "df['serving size (g)'] = df['serving size (g)'].astype(np.float64)\n",
    "df['Total Carb (g)'] = df['Total Carb (g)'].astype(np.float64)"
   ]
  },
  {
   "cell_type": "code",
   "execution_count": 22,
   "metadata": {},
   "outputs": [
    {
     "data": {
      "text/plain": [
       "Nutrition facts       object\n",
       "serving size (g)     float64\n",
       "Calories             float64\n",
       "Calories from fat    float64\n",
       "Total fat (g)        float64\n",
       "Saturated Fat (g)    float64\n",
       "Trans Fat (g)        float64\n",
       "Chol (mg)            float64\n",
       "Sodium (mg)          float64\n",
       "Total Carb (g)       float64\n",
       "Dietary Fiber (g)    float64\n",
       "Total Sugar (g)      float64\n",
       "Protein (g)          float64\n",
       "dtype: object"
      ]
     },
     "execution_count": 22,
     "metadata": {},
     "output_type": "execute_result"
    }
   ],
   "source": [
    "df.dtypes"
   ]
  },
  {
   "cell_type": "markdown",
   "metadata": {},
   "source": [
    "2.10 แสดงค่าสถิติเชิงพรรณาสําหรับข้อมูลใน DataFrame"
   ]
  },
  {
   "cell_type": "code",
   "execution_count": 23,
   "metadata": {},
   "outputs": [
    {
     "data": {
      "text/html": [
       "<div>\n",
       "<style>\n",
       "    .dataframe thead tr:only-child th {\n",
       "        text-align: right;\n",
       "    }\n",
       "\n",
       "    .dataframe thead th {\n",
       "        text-align: left;\n",
       "    }\n",
       "\n",
       "    .dataframe tbody tr th {\n",
       "        vertical-align: top;\n",
       "    }\n",
       "</style>\n",
       "<table border=\"1\" class=\"dataframe\">\n",
       "  <thead>\n",
       "    <tr style=\"text-align: right;\">\n",
       "      <th></th>\n",
       "      <th>serving size (g)</th>\n",
       "      <th>Calories</th>\n",
       "      <th>Calories from fat</th>\n",
       "      <th>Total fat (g)</th>\n",
       "      <th>Saturated Fat (g)</th>\n",
       "      <th>Trans Fat (g)</th>\n",
       "      <th>Chol (mg)</th>\n",
       "      <th>Sodium (mg)</th>\n",
       "      <th>Total Carb (g)</th>\n",
       "      <th>Dietary Fiber (g)</th>\n",
       "      <th>Total Sugar (g)</th>\n",
       "      <th>Protein (g)</th>\n",
       "    </tr>\n",
       "  </thead>\n",
       "  <tbody>\n",
       "    <tr>\n",
       "      <th>count</th>\n",
       "      <td>116.000000</td>\n",
       "      <td>116.000000</td>\n",
       "      <td>116.000000</td>\n",
       "      <td>116.000000</td>\n",
       "      <td>116.000000</td>\n",
       "      <td>116.000000</td>\n",
       "      <td>116.000000</td>\n",
       "      <td>116.000000</td>\n",
       "      <td>116.000000</td>\n",
       "      <td>116.000000</td>\n",
       "      <td>116.000000</td>\n",
       "      <td>116.000000</td>\n",
       "    </tr>\n",
       "    <tr>\n",
       "      <th>mean</th>\n",
       "      <td>155.017241</td>\n",
       "      <td>394.137931</td>\n",
       "      <td>197.672414</td>\n",
       "      <td>21.935345</td>\n",
       "      <td>6.939655</td>\n",
       "      <td>0.379310</td>\n",
       "      <td>66.379310</td>\n",
       "      <td>764.655172</td>\n",
       "      <td>34.387931</td>\n",
       "      <td>1.879310</td>\n",
       "      <td>8.870690</td>\n",
       "      <td>15.224138</td>\n",
       "    </tr>\n",
       "    <tr>\n",
       "      <th>std</th>\n",
       "      <td>100.782071</td>\n",
       "      <td>243.742804</td>\n",
       "      <td>148.045867</td>\n",
       "      <td>16.483395</td>\n",
       "      <td>5.962986</td>\n",
       "      <td>0.762207</td>\n",
       "      <td>80.202424</td>\n",
       "      <td>555.232706</td>\n",
       "      <td>18.859098</td>\n",
       "      <td>1.784743</td>\n",
       "      <td>8.828344</td>\n",
       "      <td>13.954638</td>\n",
       "    </tr>\n",
       "    <tr>\n",
       "      <th>min</th>\n",
       "      <td>10.000000</td>\n",
       "      <td>10.000000</td>\n",
       "      <td>0.000000</td>\n",
       "      <td>0.000000</td>\n",
       "      <td>0.000000</td>\n",
       "      <td>0.000000</td>\n",
       "      <td>0.000000</td>\n",
       "      <td>0.000000</td>\n",
       "      <td>1.000000</td>\n",
       "      <td>0.000000</td>\n",
       "      <td>0.000000</td>\n",
       "      <td>0.000000</td>\n",
       "    </tr>\n",
       "    <tr>\n",
       "      <th>25%</th>\n",
       "      <td>87.000000</td>\n",
       "      <td>227.500000</td>\n",
       "      <td>100.000000</td>\n",
       "      <td>11.000000</td>\n",
       "      <td>2.875000</td>\n",
       "      <td>0.000000</td>\n",
       "      <td>10.000000</td>\n",
       "      <td>260.000000</td>\n",
       "      <td>26.000000</td>\n",
       "      <td>1.000000</td>\n",
       "      <td>2.000000</td>\n",
       "      <td>4.000000</td>\n",
       "    </tr>\n",
       "    <tr>\n",
       "      <th>50%</th>\n",
       "      <td>135.000000</td>\n",
       "      <td>335.000000</td>\n",
       "      <td>155.000000</td>\n",
       "      <td>17.000000</td>\n",
       "      <td>5.000000</td>\n",
       "      <td>0.000000</td>\n",
       "      <td>32.500000</td>\n",
       "      <td>720.000000</td>\n",
       "      <td>31.000000</td>\n",
       "      <td>1.000000</td>\n",
       "      <td>7.000000</td>\n",
       "      <td>12.000000</td>\n",
       "    </tr>\n",
       "    <tr>\n",
       "      <th>75%</th>\n",
       "      <td>214.500000</td>\n",
       "      <td>510.000000</td>\n",
       "      <td>270.000000</td>\n",
       "      <td>30.000000</td>\n",
       "      <td>9.000000</td>\n",
       "      <td>0.500000</td>\n",
       "      <td>101.250000</td>\n",
       "      <td>1080.000000</td>\n",
       "      <td>48.000000</td>\n",
       "      <td>2.000000</td>\n",
       "      <td>11.000000</td>\n",
       "      <td>23.250000</td>\n",
       "    </tr>\n",
       "    <tr>\n",
       "      <th>max</th>\n",
       "      <td>464.000000</td>\n",
       "      <td>1190.000000</td>\n",
       "      <td>710.000000</td>\n",
       "      <td>79.000000</td>\n",
       "      <td>31.000000</td>\n",
       "      <td>3.500000</td>\n",
       "      <td>375.000000</td>\n",
       "      <td>2460.000000</td>\n",
       "      <td>123.000000</td>\n",
       "      <td>9.000000</td>\n",
       "      <td>41.000000</td>\n",
       "      <td>61.000000</td>\n",
       "    </tr>\n",
       "  </tbody>\n",
       "</table>\n",
       "</div>"
      ],
      "text/plain": [
       "       serving size (g)     Calories  Calories from fat  Total fat (g)  \\\n",
       "count        116.000000   116.000000         116.000000     116.000000   \n",
       "mean         155.017241   394.137931         197.672414      21.935345   \n",
       "std          100.782071   243.742804         148.045867      16.483395   \n",
       "min           10.000000    10.000000           0.000000       0.000000   \n",
       "25%           87.000000   227.500000         100.000000      11.000000   \n",
       "50%          135.000000   335.000000         155.000000      17.000000   \n",
       "75%          214.500000   510.000000         270.000000      30.000000   \n",
       "max          464.000000  1190.000000         710.000000      79.000000   \n",
       "\n",
       "       Saturated Fat (g)  Trans Fat (g)   Chol (mg)  Sodium (mg)  \\\n",
       "count         116.000000     116.000000  116.000000   116.000000   \n",
       "mean            6.939655       0.379310   66.379310   764.655172   \n",
       "std             5.962986       0.762207   80.202424   555.232706   \n",
       "min             0.000000       0.000000    0.000000     0.000000   \n",
       "25%             2.875000       0.000000   10.000000   260.000000   \n",
       "50%             5.000000       0.000000   32.500000   720.000000   \n",
       "75%             9.000000       0.500000  101.250000  1080.000000   \n",
       "max            31.000000       3.500000  375.000000  2460.000000   \n",
       "\n",
       "       Total Carb (g)  Dietary Fiber (g)  Total Sugar (g)  Protein (g)  \n",
       "count      116.000000         116.000000       116.000000   116.000000  \n",
       "mean        34.387931           1.879310         8.870690    15.224138  \n",
       "std         18.859098           1.784743         8.828344    13.954638  \n",
       "min          1.000000           0.000000         0.000000     0.000000  \n",
       "25%         26.000000           1.000000         2.000000     4.000000  \n",
       "50%         31.000000           1.000000         7.000000    12.000000  \n",
       "75%         48.000000           2.000000        11.000000    23.250000  \n",
       "max        123.000000           9.000000        41.000000    61.000000  "
      ]
     },
     "execution_count": 23,
     "metadata": {},
     "output_type": "execute_result"
    }
   ],
   "source": [
    "df.describe()"
   ]
  },
  {
   "cell_type": "markdown",
   "metadata": {},
   "source": [
    "2.11 วาด scatter plot แสดงความสัมพันธ์ระหว่างจํานวน serving size (g) และ Calories"
   ]
  },
  {
   "cell_type": "code",
   "execution_count": 24,
   "metadata": {},
   "outputs": [
    {
     "data": {
      "image/png": "[encoded data removed]",
      "text/plain": [
       "<matplotlib.figure.Figure at 0x115d7b978>"
      ]
     },
     "metadata": {},
     "output_type": "display_data"
    }
   ],
   "source": [
    "df.plot.scatter(x='serving size (g)', y='Calories',color='YellowGreen',edgecolor='DarkGreen',s=20,\n",
    "                title='Relationship between serving size (g) and Calories');\n"
   ]
  },
  {
   "cell_type": "markdown",
   "metadata": {},
   "source": [
    "2.12 แปลงค่าปริมาณสารอาหาร ให้อยู่ในอัตราส่วนของ serving size (g) ที่เท่ากัน —เนื่องจากปริมาณสารอาหารใน\n",
    "อาหารแต่ละชนิด มาจากปริมาณ serving size (g) ที่ต่างกัน ดังนั้น เราควรจะแปลงค่ามันให้เทียบมาจาก ปริมาณ serving size (g) ที่เท่าๆกัน โดยมีหลักคิดคือ —ถ้า ปริมาณ serving size = s, มีปริมาณสารอาหารในคอลัมน์ B = b ดังนั้น ที่ปริมาณ serving size = max_s จะมีปริมาณสารอาหารในคอลัมน์ B = b ∗ max_s/s"
   ]
  },
  {
   "cell_type": "code",
   "execution_count": 25,
   "metadata": {},
   "outputs": [
    {
     "data": {
      "text/plain": [
       "83    464.0\n",
       "63    395.0\n",
       "9     377.0\n",
       "84    371.0\n",
       "64    369.0\n",
       "Name: serving size (g), dtype: float64"
      ]
     },
     "execution_count": 25,
     "metadata": {},
     "output_type": "execute_result"
    }
   ],
   "source": [
    "df['serving size (g)'].nlargest(5)"
   ]
  },
  {
   "cell_type": "markdown",
   "metadata": {},
   "source": [
    "- หาปริมาณ serving size (g) ที่สูงที่สุดในชุดข้อมูล และเก็บไว้ในตัวแปรชื่อ max_ss"
   ]
  },
  {
   "cell_type": "code",
   "execution_count": 26,
   "metadata": {},
   "outputs": [
    {
     "name": "stdout",
     "output_type": "stream",
     "text": [
      "MAX Serving Size :  464.0\n"
     ]
    }
   ],
   "source": [
    "max_ss = max(df['serving size (g)'])\n",
    "print(\"MAX Serving Size : \",max_ss)"
   ]
  },
  {
   "cell_type": "markdown",
   "metadata": {},
   "source": [
    "- แปลงค่าปริมาณสารอาหารในคอลัมน์ต่างๆ โดยเทียบกับ serving size (g) ที่สูงที่สุด"
   ]
  },
  {
   "cell_type": "code",
   "execution_count": 27,
   "metadata": {
    "collapsed": true
   },
   "outputs": [],
   "source": [
    "orig_serving_size = df['serving size (g)'].copy()\n",
    "df[df.select_dtypes(include=['float64']).columns] = df[df.select_dtypes(include=['float64']).columns]*max_ss\n",
    "df = df[df.select_dtypes(include=['float64']).columns].div(orig_serving_size.values, axis='rows')"
   ]
  },
  {
   "cell_type": "markdown",
   "metadata": {},
   "source": [
    "2.13 ตรวจดูว่าาข้อมูลมีค่าที่ต่ำหรือสูงผิดปกติ (outliers) หรือไม่"
   ]
  },
  {
   "cell_type": "markdown",
   "metadata": {},
   "source": [
    "วาด boxplot สําหรับข้อมูลทุกคอลัมน์ ยกเว้นคอลัมน์แรกที่ไม่ใช่ข้อมูลตัวเลข โดยให้ boxplots ทุกอันอยู่ใน figure และ plot เดียวกัน "
   ]
  },
  {
   "cell_type": "code",
   "execution_count": 28,
   "metadata": {},
   "outputs": [
    {
     "data": {
      "image/png": "[encoded data removed]",
      "text/plain": [
       "<matplotlib.figure.Figure at 0x110d5a9b0>"
      ]
     },
     "metadata": {},
     "output_type": "display_data"
    }
   ],
   "source": [
    "color = dict(boxes='DarkGreen', whiskers='DarkOrange',medians='DarkBlue', caps='Gray')\n",
    "fig, ax = plt.subplots()\n",
    "df.plot.box(color=color,ax=ax,figsize=(10, 15),sym='ro')\n",
    "fig.tight_layout()\n",
    "fig.autofmt_xdate()"
   ]
  },
  {
   "cell_type": "markdown",
   "metadata": {},
   "source": [
    "<b>หมายเหตุ:</b> data points ที่อยู่นอก boxplot จะถูกพิจารณาว่าเป็น outliers"
   ]
  },
  {
   "cell_type": "markdown",
   "metadata": {},
   "source": [
    "- แปลงค่าข้อมูลไปเป็นค่า Z หรือ ค่ามาตรฐาน (standard value) เพื่อดูว่ามีค่าใดบ้างที่ต่ำกว่า -3 หรือสูงกว่า\n",
    "3 หรือไม่"
   ]
  },
  {
   "cell_type": "code",
   "execution_count": 29,
   "metadata": {},
   "outputs": [
    {
     "name": "stderr",
     "output_type": "stream",
     "text": [
      "/anaconda3/lib/python3.6/site-packages/scipy/stats/stats.py:2247: RuntimeWarning: invalid value encountered in true_divide\n",
      "  return (a - mns) / sstd\n"
     ]
    },
    {
     "data": {
      "text/html": [
       "<div>\n",
       "<style>\n",
       "    .dataframe thead tr:only-child th {\n",
       "        text-align: right;\n",
       "    }\n",
       "\n",
       "    .dataframe thead th {\n",
       "        text-align: left;\n",
       "    }\n",
       "\n",
       "    .dataframe tbody tr th {\n",
       "        vertical-align: top;\n",
       "    }\n",
       "</style>\n",
       "<table border=\"1\" class=\"dataframe\">\n",
       "  <thead>\n",
       "    <tr style=\"text-align: right;\">\n",
       "      <th></th>\n",
       "      <th>serving size (g)</th>\n",
       "      <th>Calories</th>\n",
       "      <th>Calories from fat</th>\n",
       "      <th>Total fat (g)</th>\n",
       "      <th>Saturated Fat (g)</th>\n",
       "      <th>Trans Fat (g)</th>\n",
       "      <th>Chol (mg)</th>\n",
       "      <th>Sodium (mg)</th>\n",
       "      <th>Total Carb (g)</th>\n",
       "      <th>Dietary Fiber (g)</th>\n",
       "      <th>Total Sugar (g)</th>\n",
       "      <th>Protein (g)</th>\n",
       "    </tr>\n",
       "  </thead>\n",
       "  <tbody>\n",
       "    <tr>\n",
       "      <th>1</th>\n",
       "      <td>NaN</td>\n",
       "      <td>-0.374276</td>\n",
       "      <td>-0.100068</td>\n",
       "      <td>-0.099859</td>\n",
       "      <td>-0.099201</td>\n",
       "      <td>1.209825</td>\n",
       "      <td>-0.122725</td>\n",
       "      <td>-0.590485</td>\n",
       "      <td>-0.563701</td>\n",
       "      <td>-0.460491</td>\n",
       "      <td>-0.413159</td>\n",
       "      <td>0.402347</td>\n",
       "    </tr>\n",
       "    <tr>\n",
       "      <th>2</th>\n",
       "      <td>NaN</td>\n",
       "      <td>-0.807168</td>\n",
       "      <td>-0.622698</td>\n",
       "      <td>-0.632233</td>\n",
       "      <td>-0.355552</td>\n",
       "      <td>1.358870</td>\n",
       "      <td>-0.160304</td>\n",
       "      <td>-0.683228</td>\n",
       "      <td>-0.464098</td>\n",
       "      <td>-0.398255</td>\n",
       "      <td>-0.384254</td>\n",
       "      <td>0.582510</td>\n",
       "    </tr>\n",
       "    <tr>\n",
       "      <th>3</th>\n",
       "      <td>NaN</td>\n",
       "      <td>-0.285198</td>\n",
       "      <td>0.003471</td>\n",
       "      <td>-0.016291</td>\n",
       "      <td>0.220472</td>\n",
       "      <td>1.621377</td>\n",
       "      <td>0.065983</td>\n",
       "      <td>-0.243095</td>\n",
       "      <td>-0.630395</td>\n",
       "      <td>-0.516091</td>\n",
       "      <td>-0.438981</td>\n",
       "      <td>0.523581</td>\n",
       "    </tr>\n",
       "    <tr>\n",
       "      <th>4</th>\n",
       "      <td>NaN</td>\n",
       "      <td>-0.676045</td>\n",
       "      <td>-0.468708</td>\n",
       "      <td>-0.466117</td>\n",
       "      <td>0.009704</td>\n",
       "      <td>1.203304</td>\n",
       "      <td>0.046079</td>\n",
       "      <td>-0.301390</td>\n",
       "      <td>-0.544046</td>\n",
       "      <td>-0.463215</td>\n",
       "      <td>-0.414424</td>\n",
       "      <td>0.698512</td>\n",
       "    </tr>\n",
       "    <tr>\n",
       "      <th>5</th>\n",
       "      <td>NaN</td>\n",
       "      <td>-0.212773</td>\n",
       "      <td>0.082139</td>\n",
       "      <td>0.079710</td>\n",
       "      <td>0.260966</td>\n",
       "      <td>1.542278</td>\n",
       "      <td>0.124327</td>\n",
       "      <td>-0.040517</td>\n",
       "      <td>-0.670849</td>\n",
       "      <td>-0.540862</td>\n",
       "      <td>-0.450485</td>\n",
       "      <td>0.645580</td>\n",
       "    </tr>\n",
       "  </tbody>\n",
       "</table>\n",
       "</div>"
      ],
      "text/plain": [
       "   serving size (g)  Calories  Calories from fat  Total fat (g)  \\\n",
       "1               NaN -0.374276          -0.100068      -0.099859   \n",
       "2               NaN -0.807168          -0.622698      -0.632233   \n",
       "3               NaN -0.285198           0.003471      -0.016291   \n",
       "4               NaN -0.676045          -0.468708      -0.466117   \n",
       "5               NaN -0.212773           0.082139       0.079710   \n",
       "\n",
       "   Saturated Fat (g)  Trans Fat (g)  Chol (mg)  Sodium (mg)  Total Carb (g)  \\\n",
       "1          -0.099201       1.209825  -0.122725    -0.590485       -0.563701   \n",
       "2          -0.355552       1.358870  -0.160304    -0.683228       -0.464098   \n",
       "3           0.220472       1.621377   0.065983    -0.243095       -0.630395   \n",
       "4           0.009704       1.203304   0.046079    -0.301390       -0.544046   \n",
       "5           0.260966       1.542278   0.124327    -0.040517       -0.670849   \n",
       "\n",
       "   Dietary Fiber (g)  Total Sugar (g)  Protein (g)  \n",
       "1          -0.460491        -0.413159     0.402347  \n",
       "2          -0.398255        -0.384254     0.582510  \n",
       "3          -0.516091        -0.438981     0.523581  \n",
       "4          -0.463215        -0.414424     0.698512  \n",
       "5          -0.540862        -0.450485     0.645580  "
      ]
     },
     "execution_count": 29,
     "metadata": {},
     "output_type": "execute_result"
    }
   ],
   "source": [
    "#df_zscore = df[df.columns[1:]].apply(zscore)\n",
    "df_zscore = df[df.columns[0:]].apply(zscore)\n",
    "df_zscore.head()"
   ]
  },
  {
   "cell_type": "markdown",
   "metadata": {},
   "source": [
    "2.14 ลบแถวข้อมูลที่มี outliers อยู่"
   ]
  },
  {
   "cell_type": "markdown",
   "metadata": {},
   "source": [
    "- พิมพ์ลิสต์ของ indice ของแถวของข้อมูลที่มี outliers อยู่ (อ้างอิง: https://pyformat.info/)"
   ]
  },
  {
   "cell_type": "code",
   "execution_count": 30,
   "metadata": {
    "collapsed": true
   },
   "outputs": [],
   "source": [
    "def find_outlier(df, df_zscore):\n",
    "             for col in df.loc[:, 'serving size (g)':].columns:\n",
    "                 ind = df_zscore.loc[(df_zscore[col]>3) | (df_zscore[col]<-3)].index.tolist()\n",
    "                 print('Column name: {}, Row index: {}'.format(col, ind))"
   ]
  },
  {
   "cell_type": "code",
   "execution_count": 31,
   "metadata": {},
   "outputs": [
    {
     "name": "stdout",
     "output_type": "stream",
     "text": [
      "Column name: serving size (g), Row index: []\n",
      "Column name: Calories, Row index: [66, 124]\n",
      "Column name: Calories from fat, Row index: [66, 124, 128, 131]\n",
      "Column name: Total fat (g), Row index: [66, 124, 128, 131]\n",
      "Column name: Saturated Fat (g), Row index: [107, 122]\n",
      "Column name: Trans Fat (g), Row index: []\n",
      "Column name: Chol (mg), Row index: []\n",
      "Column name: Sodium (mg), Row index: [122]\n",
      "Column name: Total Carb (g), Row index: [126]\n",
      "Column name: Dietary Fiber (g), Row index: []\n",
      "Column name: Total Sugar (g), Row index: [125]\n",
      "Column name: Protein (g), Row index: []\n"
     ]
    }
   ],
   "source": [
    "find_outlier(df, df_zscore)"
   ]
  },
  {
   "cell_type": "markdown",
   "metadata": {},
   "source": [
    "<b>หมายเหตุ:</b> ลองเปรียบเทียบจํานวน outliers ในแต่ละคอลัมน์ กับ boxplot ที่สร้างไว้ก่อนหน้านี้ จะพบว่า จํานวน data points ที่อยู่นอก boxplot จะใกลเคียงกับจํานวน outliers ที่หาได้ด้วย Z-score"
   ]
  },
  {
   "cell_type": "markdown",
   "metadata": {},
   "source": [
    "- รวบรวม indice ของแถวข้อมูลที่มี outliers อยู่ และเก็บไว้ในตัวแปรชื่อ outlier_ind_lst"
   ]
  },
  {
   "cell_type": "code",
   "execution_count": 32,
   "metadata": {
    "collapsed": true
   },
   "outputs": [],
   "source": [
    "def collect_outlier_indice(df, df_zscore):\n",
    "             item_list=[]\n",
    "             seen = set(item_list)\n",
    "             for col in df.loc[:, 'serving size (g)':].columns:\n",
    "                 item_list = df_zscore.loc[(df_zscore[col]>3) | (df_zscore[col]<-3)].index.tolist()\n",
    "                 for item in item_list:\n",
    "                     #print(item)\n",
    "                     if item not in seen:\n",
    "                         #print(item)\n",
    "                         seen.add(item)\n",
    "                         #item_list.append(item)\n",
    "             outlier_indice_lst = list(seen)\n",
    "             #print(outlier_indice_lst)\n",
    "             return outlier_indice_lst\n",
    "             #return seen\n"
   ]
  },
  {
   "cell_type": "markdown",
   "metadata": {},
   "source": [
    "เรียกใช้ฟังก์ชันcollect_outlier_indice()โดยให้เก็บค่าที่คืนไว้ในตัวแปรชื่อ outlier_ind_lst"
   ]
  },
  {
   "cell_type": "code",
   "execution_count": 33,
   "metadata": {},
   "outputs": [
    {
     "data": {
      "text/plain": [
       "[128, 66, 131, 107, 122, 124, 125, 126]"
      ]
     },
     "execution_count": 33,
     "metadata": {},
     "output_type": "execute_result"
    }
   ],
   "source": [
    "outlier_ind_lst = collect_outlier_indice(df,df_zscore)\n",
    "outlier_ind_lst"
   ]
  },
  {
   "cell_type": "markdown",
   "metadata": {},
   "source": [
    "ทําการลบแถวข้อมูลที่มี outliers อยู่ออกจากชุดข้อมูล"
   ]
  },
  {
   "cell_type": "code",
   "execution_count": 34,
   "metadata": {},
   "outputs": [
    {
     "name": "stdout",
     "output_type": "stream",
     "text": [
      "108\n"
     ]
    }
   ],
   "source": [
    "df.drop(outlier_ind_lst,inplace=True)\n",
    "df=df.reset_index(drop=True)\n",
    "print(df.shape[0])"
   ]
  },
  {
   "cell_type": "markdown",
   "metadata": {},
   "source": [
    "2.15 วาด scatter plot เพื่อพิจารณาความสัมพันธ์ระหว่างปริมาณแคลลอรี่ (Calories) และสารอาหารอื่นๆ โดยให้แบ่ง เป็น subplots ที่มี 2 แถวและ 5 คอลัมน์"
   ]
  },
  {
   "cell_type": "markdown",
   "metadata": {},
   "source": [
    "• Calories และ Calories from fat <br>\n",
    "• Calories และ Total fat (g)<br>\n",
    "• Calories และ Trans Fats (g)<br>\n",
    "• Calories และ Saturated Fat (g) <br>\n",
    "• Calories และ Chol (mg)<br>\n",
    "• Calories และ Sodium (mg)<br>\n",
    "• Calories และ Total Carb (g)<br>\n",
    "• Calories และ Dietary Fiber (g)<br>\n",
    "• Calories และ Total Sugar (g) <br>\n",
    "• Calories และ Protein (g)"
   ]
  },
  {
   "cell_type": "code",
   "execution_count": 35,
   "metadata": {
    "scrolled": true
   },
   "outputs": [
    {
     "data": {
      "text/html": [
       "<div>\n",
       "<style>\n",
       "    .dataframe thead tr:only-child th {\n",
       "        text-align: right;\n",
       "    }\n",
       "\n",
       "    .dataframe thead th {\n",
       "        text-align: left;\n",
       "    }\n",
       "\n",
       "    .dataframe tbody tr th {\n",
       "        vertical-align: top;\n",
       "    }\n",
       "</style>\n",
       "<table border=\"1\" class=\"dataframe\">\n",
       "  <thead>\n",
       "    <tr style=\"text-align: right;\">\n",
       "      <th></th>\n",
       "      <th>serving size (g)</th>\n",
       "      <th>Calories</th>\n",
       "      <th>Calories from fat</th>\n",
       "      <th>Total fat (g)</th>\n",
       "      <th>Saturated Fat (g)</th>\n",
       "      <th>Trans Fat (g)</th>\n",
       "      <th>Chol (mg)</th>\n",
       "      <th>Sodium (mg)</th>\n",
       "      <th>Total Carb (g)</th>\n",
       "      <th>Dietary Fiber (g)</th>\n",
       "      <th>Total Sugar (g)</th>\n",
       "      <th>Protein (g)</th>\n",
       "    </tr>\n",
       "  </thead>\n",
       "  <tbody>\n",
       "    <tr>\n",
       "      <th>0</th>\n",
       "      <td>464.0</td>\n",
       "      <td>1134.222222</td>\n",
       "      <td>618.666667</td>\n",
       "      <td>68.740741</td>\n",
       "      <td>20.622222</td>\n",
       "      <td>2.577778</td>\n",
       "      <td>154.666667</td>\n",
       "      <td>1684.148148</td>\n",
       "      <td>84.207407</td>\n",
       "      <td>3.437037</td>\n",
       "      <td>18.903704</td>\n",
       "      <td>48.118519</td>\n",
       "    </tr>\n",
       "    <tr>\n",
       "      <th>1</th>\n",
       "      <td>464.0</td>\n",
       "      <td>931.726908</td>\n",
       "      <td>372.690763</td>\n",
       "      <td>40.995984</td>\n",
       "      <td>16.771084</td>\n",
       "      <td>2.795181</td>\n",
       "      <td>149.076305</td>\n",
       "      <td>1565.301205</td>\n",
       "      <td>91.309237</td>\n",
       "      <td>3.726908</td>\n",
       "      <td>20.497992</td>\n",
       "      <td>52.176707</td>\n",
       "    </tr>\n",
       "    <tr>\n",
       "      <th>2</th>\n",
       "      <td>464.0</td>\n",
       "      <td>1175.890411</td>\n",
       "      <td>667.397260</td>\n",
       "      <td>73.095890</td>\n",
       "      <td>25.424658</td>\n",
       "      <td>3.178082</td>\n",
       "      <td>182.739726</td>\n",
       "      <td>2129.315068</td>\n",
       "      <td>79.452055</td>\n",
       "      <td>3.178082</td>\n",
       "      <td>17.479452</td>\n",
       "      <td>50.849315</td>\n",
       "    </tr>\n",
       "    <tr>\n",
       "      <th>3</th>\n",
       "      <td>464.0</td>\n",
       "      <td>993.062731</td>\n",
       "      <td>445.166052</td>\n",
       "      <td>49.653137</td>\n",
       "      <td>22.258303</td>\n",
       "      <td>2.568266</td>\n",
       "      <td>179.778598</td>\n",
       "      <td>2054.612546</td>\n",
       "      <td>85.608856</td>\n",
       "      <td>3.424354</td>\n",
       "      <td>18.833948</td>\n",
       "      <td>54.789668</td>\n",
       "    </tr>\n",
       "    <tr>\n",
       "      <th>4</th>\n",
       "      <td>464.0</td>\n",
       "      <td>1209.768977</td>\n",
       "      <td>704.422442</td>\n",
       "      <td>78.099010</td>\n",
       "      <td>26.033003</td>\n",
       "      <td>3.062706</td>\n",
       "      <td>191.419142</td>\n",
       "      <td>2388.910891</td>\n",
       "      <td>76.567657</td>\n",
       "      <td>3.062706</td>\n",
       "      <td>16.844884</td>\n",
       "      <td>53.597360</td>\n",
       "    </tr>\n",
       "    <tr>\n",
       "      <th>5</th>\n",
       "      <td>464.0</td>\n",
       "      <td>1225.082508</td>\n",
       "      <td>704.422442</td>\n",
       "      <td>78.099010</td>\n",
       "      <td>26.033003</td>\n",
       "      <td>3.062706</td>\n",
       "      <td>191.419142</td>\n",
       "      <td>2358.283828</td>\n",
       "      <td>81.161716</td>\n",
       "      <td>3.062706</td>\n",
       "      <td>21.438944</td>\n",
       "      <td>53.597360</td>\n",
       "    </tr>\n",
       "    <tr>\n",
       "      <th>6</th>\n",
       "      <td>464.0</td>\n",
       "      <td>1179.661017</td>\n",
       "      <td>681.581921</td>\n",
       "      <td>76.022599</td>\n",
       "      <td>26.214689</td>\n",
       "      <td>3.932203</td>\n",
       "      <td>229.378531</td>\n",
       "      <td>1376.271186</td>\n",
       "      <td>64.225989</td>\n",
       "      <td>2.621469</td>\n",
       "      <td>14.418079</td>\n",
       "      <td>62.915254</td>\n",
       "    </tr>\n",
       "    <tr>\n",
       "      <th>7</th>\n",
       "      <td>464.0</td>\n",
       "      <td>1031.111111</td>\n",
       "      <td>501.621622</td>\n",
       "      <td>55.735736</td>\n",
       "      <td>23.687688</td>\n",
       "      <td>3.483483</td>\n",
       "      <td>229.909910</td>\n",
       "      <td>1267.987988</td>\n",
       "      <td>68.276276</td>\n",
       "      <td>2.786787</td>\n",
       "      <td>15.327327</td>\n",
       "      <td>65.489489</td>\n",
       "    </tr>\n",
       "    <tr>\n",
       "      <th>8</th>\n",
       "      <td>464.0</td>\n",
       "      <td>1206.153846</td>\n",
       "      <td>713.846154</td>\n",
       "      <td>78.769231</td>\n",
       "      <td>29.538462</td>\n",
       "      <td>3.692308</td>\n",
       "      <td>240.000000</td>\n",
       "      <td>1735.384615</td>\n",
       "      <td>61.538462</td>\n",
       "      <td>2.461538</td>\n",
       "      <td>13.538462</td>\n",
       "      <td>64.000000</td>\n",
       "    </tr>\n",
       "    <tr>\n",
       "      <th>9</th>\n",
       "      <td>464.0</td>\n",
       "      <td>1071.774648</td>\n",
       "      <td>548.957746</td>\n",
       "      <td>61.430986</td>\n",
       "      <td>27.447887</td>\n",
       "      <td>3.921127</td>\n",
       "      <td>241.802817</td>\n",
       "      <td>1659.943662</td>\n",
       "      <td>65.352113</td>\n",
       "      <td>2.614085</td>\n",
       "      <td>14.377465</td>\n",
       "      <td>67.966197</td>\n",
       "    </tr>\n",
       "    <tr>\n",
       "      <th>10</th>\n",
       "      <td>464.0</td>\n",
       "      <td>1073.432836</td>\n",
       "      <td>554.029851</td>\n",
       "      <td>62.328358</td>\n",
       "      <td>17.313433</td>\n",
       "      <td>1.731343</td>\n",
       "      <td>138.507463</td>\n",
       "      <td>1350.447761</td>\n",
       "      <td>93.492537</td>\n",
       "      <td>3.462687</td>\n",
       "      <td>24.238806</td>\n",
       "      <td>45.014925</td>\n",
       "    </tr>\n",
       "    <tr>\n",
       "      <th>11</th>\n",
       "      <td>464.0</td>\n",
       "      <td>1498.876404</td>\n",
       "      <td>925.393258</td>\n",
       "      <td>102.966292</td>\n",
       "      <td>40.404494</td>\n",
       "      <td>4.561798</td>\n",
       "      <td>312.808989</td>\n",
       "      <td>2802.247191</td>\n",
       "      <td>63.865169</td>\n",
       "      <td>2.606742</td>\n",
       "      <td>13.033708</td>\n",
       "      <td>79.505618</td>\n",
       "    </tr>\n",
       "    <tr>\n",
       "      <th>12</th>\n",
       "      <td>464.0</td>\n",
       "      <td>1203.773585</td>\n",
       "      <td>547.169811</td>\n",
       "      <td>59.094340</td>\n",
       "      <td>26.264151</td>\n",
       "      <td>3.283019</td>\n",
       "      <td>207.924528</td>\n",
       "      <td>2495.094340</td>\n",
       "      <td>105.056604</td>\n",
       "      <td>4.377358</td>\n",
       "      <td>21.886792</td>\n",
       "      <td>65.660377</td>\n",
       "    </tr>\n",
       "    <tr>\n",
       "      <th>13</th>\n",
       "      <td>464.0</td>\n",
       "      <td>1097.634409</td>\n",
       "      <td>399.139785</td>\n",
       "      <td>39.913978</td>\n",
       "      <td>14.967742</td>\n",
       "      <td>2.494624</td>\n",
       "      <td>149.677419</td>\n",
       "      <td>1895.913978</td>\n",
       "      <td>129.720430</td>\n",
       "      <td>4.989247</td>\n",
       "      <td>29.935484</td>\n",
       "      <td>54.881720</td>\n",
       "    </tr>\n",
       "    <tr>\n",
       "      <th>14</th>\n",
       "      <td>464.0</td>\n",
       "      <td>1204.615385</td>\n",
       "      <td>490.769231</td>\n",
       "      <td>53.538462</td>\n",
       "      <td>22.307692</td>\n",
       "      <td>2.230769</td>\n",
       "      <td>178.461538</td>\n",
       "      <td>2498.461538</td>\n",
       "      <td>120.461538</td>\n",
       "      <td>4.461538</td>\n",
       "      <td>31.230769</td>\n",
       "      <td>58.000000</td>\n",
       "    </tr>\n",
       "    <tr>\n",
       "      <th>15</th>\n",
       "      <td>464.0</td>\n",
       "      <td>1160.000000</td>\n",
       "      <td>486.451613</td>\n",
       "      <td>56.129032</td>\n",
       "      <td>22.451613</td>\n",
       "      <td>3.741935</td>\n",
       "      <td>224.516129</td>\n",
       "      <td>1496.774194</td>\n",
       "      <td>97.290323</td>\n",
       "      <td>3.741935</td>\n",
       "      <td>22.451613</td>\n",
       "      <td>67.354839</td>\n",
       "    </tr>\n",
       "    <tr>\n",
       "      <th>16</th>\n",
       "      <td>464.0</td>\n",
       "      <td>1202.962963</td>\n",
       "      <td>549.925926</td>\n",
       "      <td>61.866667</td>\n",
       "      <td>30.933333</td>\n",
       "      <td>5.155556</td>\n",
       "      <td>240.592593</td>\n",
       "      <td>1993.481481</td>\n",
       "      <td>92.800000</td>\n",
       "      <td>3.437037</td>\n",
       "      <td>24.059259</td>\n",
       "      <td>68.740741</td>\n",
       "    </tr>\n",
       "    <tr>\n",
       "      <th>17</th>\n",
       "      <td>464.0</td>\n",
       "      <td>1285.258216</td>\n",
       "      <td>675.305164</td>\n",
       "      <td>74.065728</td>\n",
       "      <td>28.319249</td>\n",
       "      <td>3.267606</td>\n",
       "      <td>196.056338</td>\n",
       "      <td>2265.539906</td>\n",
       "      <td>98.028169</td>\n",
       "      <td>4.356808</td>\n",
       "      <td>19.605634</td>\n",
       "      <td>56.638498</td>\n",
       "    </tr>\n",
       "    <tr>\n",
       "      <th>18</th>\n",
       "      <td>464.0</td>\n",
       "      <td>1254.054054</td>\n",
       "      <td>543.423423</td>\n",
       "      <td>62.702703</td>\n",
       "      <td>25.081081</td>\n",
       "      <td>4.180180</td>\n",
       "      <td>209.009009</td>\n",
       "      <td>2967.927928</td>\n",
       "      <td>112.864865</td>\n",
       "      <td>4.180180</td>\n",
       "      <td>29.261261</td>\n",
       "      <td>62.702703</td>\n",
       "    </tr>\n",
       "    <tr>\n",
       "      <th>19</th>\n",
       "      <td>464.0</td>\n",
       "      <td>1235.107914</td>\n",
       "      <td>600.863309</td>\n",
       "      <td>66.762590</td>\n",
       "      <td>30.043165</td>\n",
       "      <td>5.007194</td>\n",
       "      <td>250.359712</td>\n",
       "      <td>2203.165468</td>\n",
       "      <td>90.129496</td>\n",
       "      <td>3.338129</td>\n",
       "      <td>23.366906</td>\n",
       "      <td>70.100719</td>\n",
       "    </tr>\n",
       "    <tr>\n",
       "      <th>20</th>\n",
       "      <td>464.0</td>\n",
       "      <td>1202.962963</td>\n",
       "      <td>549.925926</td>\n",
       "      <td>61.866667</td>\n",
       "      <td>27.496296</td>\n",
       "      <td>5.155556</td>\n",
       "      <td>240.592593</td>\n",
       "      <td>1993.481481</td>\n",
       "      <td>92.800000</td>\n",
       "      <td>3.437037</td>\n",
       "      <td>24.059259</td>\n",
       "      <td>68.740741</td>\n",
       "    </tr>\n",
       "    <tr>\n",
       "      <th>21</th>\n",
       "      <td>464.0</td>\n",
       "      <td>968.057554</td>\n",
       "      <td>400.575540</td>\n",
       "      <td>43.395683</td>\n",
       "      <td>20.028777</td>\n",
       "      <td>1.669065</td>\n",
       "      <td>150.215827</td>\n",
       "      <td>2136.402878</td>\n",
       "      <td>93.467626</td>\n",
       "      <td>3.338129</td>\n",
       "      <td>23.366906</td>\n",
       "      <td>46.733813</td>\n",
       "    </tr>\n",
       "    <tr>\n",
       "      <th>22</th>\n",
       "      <td>464.0</td>\n",
       "      <td>1169.430894</td>\n",
       "      <td>528.130081</td>\n",
       "      <td>60.357724</td>\n",
       "      <td>22.634146</td>\n",
       "      <td>3.772358</td>\n",
       "      <td>113.170732</td>\n",
       "      <td>3621.463415</td>\n",
       "      <td>120.715447</td>\n",
       "      <td>7.544715</td>\n",
       "      <td>37.723577</td>\n",
       "      <td>41.495935</td>\n",
       "    </tr>\n",
       "    <tr>\n",
       "      <th>23</th>\n",
       "      <td>464.0</td>\n",
       "      <td>1244.878049</td>\n",
       "      <td>641.300813</td>\n",
       "      <td>71.674797</td>\n",
       "      <td>30.178862</td>\n",
       "      <td>3.772358</td>\n",
       "      <td>150.894309</td>\n",
       "      <td>3696.910569</td>\n",
       "      <td>105.626016</td>\n",
       "      <td>7.544715</td>\n",
       "      <td>18.861789</td>\n",
       "      <td>52.813008</td>\n",
       "    </tr>\n",
       "    <tr>\n",
       "      <th>24</th>\n",
       "      <td>464.0</td>\n",
       "      <td>952.314410</td>\n",
       "      <td>344.454148</td>\n",
       "      <td>38.497817</td>\n",
       "      <td>8.104803</td>\n",
       "      <td>0.000000</td>\n",
       "      <td>172.227074</td>\n",
       "      <td>1702.008734</td>\n",
       "      <td>79.021834</td>\n",
       "      <td>12.157205</td>\n",
       "      <td>14.183406</td>\n",
       "      <td>74.969432</td>\n",
       "    </tr>\n",
       "    <tr>\n",
       "      <th>25</th>\n",
       "      <td>464.0</td>\n",
       "      <td>802.242991</td>\n",
       "      <td>151.775701</td>\n",
       "      <td>15.177570</td>\n",
       "      <td>4.336449</td>\n",
       "      <td>0.000000</td>\n",
       "      <td>162.616822</td>\n",
       "      <td>1604.485981</td>\n",
       "      <td>84.560748</td>\n",
       "      <td>13.009346</td>\n",
       "      <td>15.177570</td>\n",
       "      <td>78.056075</td>\n",
       "    </tr>\n",
       "    <tr>\n",
       "      <th>26</th>\n",
       "      <td>464.0</td>\n",
       "      <td>1363.508772</td>\n",
       "      <td>752.982456</td>\n",
       "      <td>83.438596</td>\n",
       "      <td>14.245614</td>\n",
       "      <td>0.000000</td>\n",
       "      <td>122.105263</td>\n",
       "      <td>2197.894737</td>\n",
       "      <td>109.894737</td>\n",
       "      <td>4.070175</td>\n",
       "      <td>16.280702</td>\n",
       "      <td>46.807018</td>\n",
       "    </tr>\n",
       "    <tr>\n",
       "      <th>27</th>\n",
       "      <td>464.0</td>\n",
       "      <td>1067.200000</td>\n",
       "      <td>371.200000</td>\n",
       "      <td>39.440000</td>\n",
       "      <td>6.960000</td>\n",
       "      <td>0.000000</td>\n",
       "      <td>116.000000</td>\n",
       "      <td>2064.800000</td>\n",
       "      <td>125.280000</td>\n",
       "      <td>4.640000</td>\n",
       "      <td>16.240000</td>\n",
       "      <td>53.360000</td>\n",
       "    </tr>\n",
       "    <tr>\n",
       "      <th>28</th>\n",
       "      <td>464.0</td>\n",
       "      <td>1398.356164</td>\n",
       "      <td>762.739726</td>\n",
       "      <td>84.748858</td>\n",
       "      <td>14.831050</td>\n",
       "      <td>0.000000</td>\n",
       "      <td>158.904110</td>\n",
       "      <td>2478.904110</td>\n",
       "      <td>101.698630</td>\n",
       "      <td>4.237443</td>\n",
       "      <td>10.593607</td>\n",
       "      <td>59.324201</td>\n",
       "    </tr>\n",
       "    <tr>\n",
       "      <th>29</th>\n",
       "      <td>464.0</td>\n",
       "      <td>1098.947368</td>\n",
       "      <td>341.894737</td>\n",
       "      <td>39.073684</td>\n",
       "      <td>8.547368</td>\n",
       "      <td>0.000000</td>\n",
       "      <td>146.526316</td>\n",
       "      <td>2417.684211</td>\n",
       "      <td>117.221053</td>\n",
       "      <td>4.884211</td>\n",
       "      <td>9.768421</td>\n",
       "      <td>68.378947</td>\n",
       "    </tr>\n",
       "    <tr>\n",
       "      <th>...</th>\n",
       "      <td>...</td>\n",
       "      <td>...</td>\n",
       "      <td>...</td>\n",
       "      <td>...</td>\n",
       "      <td>...</td>\n",
       "      <td>...</td>\n",
       "      <td>...</td>\n",
       "      <td>...</td>\n",
       "      <td>...</td>\n",
       "      <td>...</td>\n",
       "      <td>...</td>\n",
       "      <td>...</td>\n",
       "    </tr>\n",
       "    <tr>\n",
       "      <th>78</th>\n",
       "      <td>464.0</td>\n",
       "      <td>1336.521739</td>\n",
       "      <td>781.739130</td>\n",
       "      <td>85.739130</td>\n",
       "      <td>35.304348</td>\n",
       "      <td>1.260870</td>\n",
       "      <td>466.521739</td>\n",
       "      <td>3227.826087</td>\n",
       "      <td>78.173913</td>\n",
       "      <td>2.521739</td>\n",
       "      <td>12.608696</td>\n",
       "      <td>58.000000</td>\n",
       "    </tr>\n",
       "    <tr>\n",
       "      <th>79</th>\n",
       "      <td>464.0</td>\n",
       "      <td>1533.559322</td>\n",
       "      <td>904.406780</td>\n",
       "      <td>98.305085</td>\n",
       "      <td>23.593220</td>\n",
       "      <td>0.000000</td>\n",
       "      <td>137.627119</td>\n",
       "      <td>4010.847458</td>\n",
       "      <td>110.101695</td>\n",
       "      <td>3.932203</td>\n",
       "      <td>7.864407</td>\n",
       "      <td>47.186441</td>\n",
       "    </tr>\n",
       "    <tr>\n",
       "      <th>80</th>\n",
       "      <td>464.0</td>\n",
       "      <td>1040.484848</td>\n",
       "      <td>534.303030</td>\n",
       "      <td>59.054545</td>\n",
       "      <td>11.248485</td>\n",
       "      <td>0.000000</td>\n",
       "      <td>407.757576</td>\n",
       "      <td>4218.181818</td>\n",
       "      <td>84.363636</td>\n",
       "      <td>2.812121</td>\n",
       "      <td>8.436364</td>\n",
       "      <td>44.993939</td>\n",
       "    </tr>\n",
       "    <tr>\n",
       "      <th>81</th>\n",
       "      <td>464.0</td>\n",
       "      <td>1329.438202</td>\n",
       "      <td>808.089888</td>\n",
       "      <td>91.235955</td>\n",
       "      <td>23.460674</td>\n",
       "      <td>0.000000</td>\n",
       "      <td>430.112360</td>\n",
       "      <td>3623.370787</td>\n",
       "      <td>75.595506</td>\n",
       "      <td>2.606742</td>\n",
       "      <td>5.213483</td>\n",
       "      <td>46.921348</td>\n",
       "    </tr>\n",
       "    <tr>\n",
       "      <th>82</th>\n",
       "      <td>464.0</td>\n",
       "      <td>1250.496454</td>\n",
       "      <td>658.156028</td>\n",
       "      <td>75.687943</td>\n",
       "      <td>16.453901</td>\n",
       "      <td>0.000000</td>\n",
       "      <td>460.709220</td>\n",
       "      <td>4047.659574</td>\n",
       "      <td>95.432624</td>\n",
       "      <td>3.290780</td>\n",
       "      <td>6.581560</td>\n",
       "      <td>42.780142</td>\n",
       "    </tr>\n",
       "    <tr>\n",
       "      <th>83</th>\n",
       "      <td>464.0</td>\n",
       "      <td>1204.425532</td>\n",
       "      <td>750.297872</td>\n",
       "      <td>82.927660</td>\n",
       "      <td>39.489362</td>\n",
       "      <td>0.000000</td>\n",
       "      <td>444.255319</td>\n",
       "      <td>4284.595745</td>\n",
       "      <td>61.208511</td>\n",
       "      <td>1.974468</td>\n",
       "      <td>7.897872</td>\n",
       "      <td>55.285106</td>\n",
       "    </tr>\n",
       "    <tr>\n",
       "      <th>84</th>\n",
       "      <td>464.0</td>\n",
       "      <td>1644.556962</td>\n",
       "      <td>587.341772</td>\n",
       "      <td>64.607595</td>\n",
       "      <td>35.240506</td>\n",
       "      <td>0.000000</td>\n",
       "      <td>88.101266</td>\n",
       "      <td>1644.556962</td>\n",
       "      <td>240.810127</td>\n",
       "      <td>11.746835</td>\n",
       "      <td>129.215190</td>\n",
       "      <td>23.493671</td>\n",
       "    </tr>\n",
       "    <tr>\n",
       "      <th>85</th>\n",
       "      <td>464.0</td>\n",
       "      <td>1380.952381</td>\n",
       "      <td>828.571429</td>\n",
       "      <td>88.380952</td>\n",
       "      <td>19.333333</td>\n",
       "      <td>0.000000</td>\n",
       "      <td>0.000000</td>\n",
       "      <td>3203.809524</td>\n",
       "      <td>132.571429</td>\n",
       "      <td>16.571429</td>\n",
       "      <td>0.000000</td>\n",
       "      <td>11.047619</td>\n",
       "    </tr>\n",
       "    <tr>\n",
       "      <th>86</th>\n",
       "      <td>464.0</td>\n",
       "      <td>1372.781065</td>\n",
       "      <td>796.213018</td>\n",
       "      <td>90.603550</td>\n",
       "      <td>19.218935</td>\n",
       "      <td>0.000000</td>\n",
       "      <td>0.000000</td>\n",
       "      <td>3129.940828</td>\n",
       "      <td>131.786982</td>\n",
       "      <td>19.218935</td>\n",
       "      <td>0.000000</td>\n",
       "      <td>10.982249</td>\n",
       "    </tr>\n",
       "    <tr>\n",
       "      <th>87</th>\n",
       "      <td>464.0</td>\n",
       "      <td>1381.688889</td>\n",
       "      <td>804.266667</td>\n",
       "      <td>90.737778</td>\n",
       "      <td>18.560000</td>\n",
       "      <td>0.000000</td>\n",
       "      <td>0.000000</td>\n",
       "      <td>3155.200000</td>\n",
       "      <td>134.044444</td>\n",
       "      <td>18.560000</td>\n",
       "      <td>0.000000</td>\n",
       "      <td>10.311111</td>\n",
       "    </tr>\n",
       "    <tr>\n",
       "      <th>88</th>\n",
       "      <td>464.0</td>\n",
       "      <td>1641.846154</td>\n",
       "      <td>713.846154</td>\n",
       "      <td>78.523077</td>\n",
       "      <td>14.276923</td>\n",
       "      <td>0.000000</td>\n",
       "      <td>0.000000</td>\n",
       "      <td>1856.000000</td>\n",
       "      <td>207.015385</td>\n",
       "      <td>7.138462</td>\n",
       "      <td>57.107692</td>\n",
       "      <td>21.415385</td>\n",
       "    </tr>\n",
       "    <tr>\n",
       "      <th>89</th>\n",
       "      <td>464.0</td>\n",
       "      <td>1617.614679</td>\n",
       "      <td>681.100917</td>\n",
       "      <td>76.623853</td>\n",
       "      <td>12.770642</td>\n",
       "      <td>0.000000</td>\n",
       "      <td>0.000000</td>\n",
       "      <td>1830.458716</td>\n",
       "      <td>208.587156</td>\n",
       "      <td>8.513761</td>\n",
       "      <td>55.339450</td>\n",
       "      <td>21.284404</td>\n",
       "    </tr>\n",
       "    <tr>\n",
       "      <th>90</th>\n",
       "      <td>464.0</td>\n",
       "      <td>1474.392523</td>\n",
       "      <td>563.738318</td>\n",
       "      <td>60.710280</td>\n",
       "      <td>26.018692</td>\n",
       "      <td>0.000000</td>\n",
       "      <td>0.000000</td>\n",
       "      <td>1344.299065</td>\n",
       "      <td>221.158879</td>\n",
       "      <td>4.336449</td>\n",
       "      <td>108.411215</td>\n",
       "      <td>13.009346</td>\n",
       "    </tr>\n",
       "    <tr>\n",
       "      <th>91</th>\n",
       "      <td>464.0</td>\n",
       "      <td>2054.857143</td>\n",
       "      <td>1126.857143</td>\n",
       "      <td>125.942857</td>\n",
       "      <td>66.285714</td>\n",
       "      <td>0.000000</td>\n",
       "      <td>33.142857</td>\n",
       "      <td>1325.714286</td>\n",
       "      <td>205.485714</td>\n",
       "      <td>13.257143</td>\n",
       "      <td>139.200000</td>\n",
       "      <td>33.142857</td>\n",
       "    </tr>\n",
       "    <tr>\n",
       "      <th>92</th>\n",
       "      <td>464.0</td>\n",
       "      <td>1718.518519</td>\n",
       "      <td>801.975309</td>\n",
       "      <td>91.654321</td>\n",
       "      <td>51.555556</td>\n",
       "      <td>0.000000</td>\n",
       "      <td>28.641975</td>\n",
       "      <td>1317.530864</td>\n",
       "      <td>206.222222</td>\n",
       "      <td>5.728395</td>\n",
       "      <td>143.209877</td>\n",
       "      <td>22.913580</td>\n",
       "    </tr>\n",
       "    <tr>\n",
       "      <th>93</th>\n",
       "      <td>464.0</td>\n",
       "      <td>734.666667</td>\n",
       "      <td>154.666667</td>\n",
       "      <td>17.400000</td>\n",
       "      <td>11.600000</td>\n",
       "      <td>0.000000</td>\n",
       "      <td>77.333333</td>\n",
       "      <td>580.000000</td>\n",
       "      <td>123.733333</td>\n",
       "      <td>0.000000</td>\n",
       "      <td>92.800000</td>\n",
       "      <td>19.333333</td>\n",
       "    </tr>\n",
       "    <tr>\n",
       "      <th>94</th>\n",
       "      <td>464.0</td>\n",
       "      <td>685.913043</td>\n",
       "      <td>161.391304</td>\n",
       "      <td>18.156522</td>\n",
       "      <td>12.104348</td>\n",
       "      <td>0.000000</td>\n",
       "      <td>80.695652</td>\n",
       "      <td>605.217391</td>\n",
       "      <td>112.973913</td>\n",
       "      <td>0.000000</td>\n",
       "      <td>96.834783</td>\n",
       "      <td>20.173913</td>\n",
       "    </tr>\n",
       "    <tr>\n",
       "      <th>95</th>\n",
       "      <td>464.0</td>\n",
       "      <td>879.477124</td>\n",
       "      <td>181.960784</td>\n",
       "      <td>18.196078</td>\n",
       "      <td>12.130719</td>\n",
       "      <td>0.000000</td>\n",
       "      <td>75.816993</td>\n",
       "      <td>788.496732</td>\n",
       "      <td>160.732026</td>\n",
       "      <td>0.000000</td>\n",
       "      <td>118.274510</td>\n",
       "      <td>18.196078</td>\n",
       "    </tr>\n",
       "    <tr>\n",
       "      <th>96</th>\n",
       "      <td>464.0</td>\n",
       "      <td>883.809524</td>\n",
       "      <td>189.387755</td>\n",
       "      <td>22.095238</td>\n",
       "      <td>15.782313</td>\n",
       "      <td>0.000000</td>\n",
       "      <td>63.129252</td>\n",
       "      <td>694.421769</td>\n",
       "      <td>148.353741</td>\n",
       "      <td>3.156463</td>\n",
       "      <td>129.414966</td>\n",
       "      <td>18.938776</td>\n",
       "    </tr>\n",
       "    <tr>\n",
       "      <th>97</th>\n",
       "      <td>464.0</td>\n",
       "      <td>2062.222222</td>\n",
       "      <td>773.333333</td>\n",
       "      <td>90.222222</td>\n",
       "      <td>45.111111</td>\n",
       "      <td>0.000000</td>\n",
       "      <td>193.333333</td>\n",
       "      <td>1740.000000</td>\n",
       "      <td>283.555556</td>\n",
       "      <td>0.000000</td>\n",
       "      <td>154.666667</td>\n",
       "      <td>25.777778</td>\n",
       "    </tr>\n",
       "    <tr>\n",
       "      <th>98</th>\n",
       "      <td>464.0</td>\n",
       "      <td>2062.222222</td>\n",
       "      <td>773.333333</td>\n",
       "      <td>90.222222</td>\n",
       "      <td>38.666667</td>\n",
       "      <td>0.000000</td>\n",
       "      <td>128.888889</td>\n",
       "      <td>1546.666667</td>\n",
       "      <td>283.555556</td>\n",
       "      <td>12.888889</td>\n",
       "      <td>180.444444</td>\n",
       "      <td>25.777778</td>\n",
       "    </tr>\n",
       "    <tr>\n",
       "      <th>99</th>\n",
       "      <td>464.0</td>\n",
       "      <td>2062.222222</td>\n",
       "      <td>644.444444</td>\n",
       "      <td>77.333333</td>\n",
       "      <td>38.666667</td>\n",
       "      <td>0.000000</td>\n",
       "      <td>64.444444</td>\n",
       "      <td>1611.111111</td>\n",
       "      <td>296.444444</td>\n",
       "      <td>0.000000</td>\n",
       "      <td>180.444444</td>\n",
       "      <td>12.888889</td>\n",
       "    </tr>\n",
       "    <tr>\n",
       "      <th>100</th>\n",
       "      <td>464.0</td>\n",
       "      <td>1831.578947</td>\n",
       "      <td>549.473684</td>\n",
       "      <td>61.052632</td>\n",
       "      <td>30.526316</td>\n",
       "      <td>0.000000</td>\n",
       "      <td>122.105263</td>\n",
       "      <td>1648.421053</td>\n",
       "      <td>305.263158</td>\n",
       "      <td>12.210526</td>\n",
       "      <td>158.736842</td>\n",
       "      <td>24.421053</td>\n",
       "    </tr>\n",
       "    <tr>\n",
       "      <th>101</th>\n",
       "      <td>464.0</td>\n",
       "      <td>2014.736842</td>\n",
       "      <td>854.736842</td>\n",
       "      <td>91.578947</td>\n",
       "      <td>48.842105</td>\n",
       "      <td>0.000000</td>\n",
       "      <td>122.105263</td>\n",
       "      <td>1526.315789</td>\n",
       "      <td>286.947368</td>\n",
       "      <td>6.105263</td>\n",
       "      <td>177.052632</td>\n",
       "      <td>18.315789</td>\n",
       "    </tr>\n",
       "    <tr>\n",
       "      <th>102</th>\n",
       "      <td>464.0</td>\n",
       "      <td>2075.789474</td>\n",
       "      <td>976.842105</td>\n",
       "      <td>109.894737</td>\n",
       "      <td>48.842105</td>\n",
       "      <td>0.000000</td>\n",
       "      <td>122.105263</td>\n",
       "      <td>1465.263158</td>\n",
       "      <td>268.631579</td>\n",
       "      <td>0.000000</td>\n",
       "      <td>170.947368</td>\n",
       "      <td>24.421053</td>\n",
       "    </tr>\n",
       "    <tr>\n",
       "      <th>103</th>\n",
       "      <td>464.0</td>\n",
       "      <td>1892.631579</td>\n",
       "      <td>732.631579</td>\n",
       "      <td>79.368421</td>\n",
       "      <td>48.842105</td>\n",
       "      <td>0.000000</td>\n",
       "      <td>122.105263</td>\n",
       "      <td>1587.368421</td>\n",
       "      <td>280.842105</td>\n",
       "      <td>18.315789</td>\n",
       "      <td>158.736842</td>\n",
       "      <td>24.421053</td>\n",
       "    </tr>\n",
       "    <tr>\n",
       "      <th>104</th>\n",
       "      <td>464.0</td>\n",
       "      <td>464.000000</td>\n",
       "      <td>0.000000</td>\n",
       "      <td>0.000000</td>\n",
       "      <td>0.000000</td>\n",
       "      <td>0.000000</td>\n",
       "      <td>0.000000</td>\n",
       "      <td>5800.000000</td>\n",
       "      <td>139.200000</td>\n",
       "      <td>0.000000</td>\n",
       "      <td>92.800000</td>\n",
       "      <td>0.000000</td>\n",
       "    </tr>\n",
       "    <tr>\n",
       "      <th>105</th>\n",
       "      <td>464.0</td>\n",
       "      <td>662.857143</td>\n",
       "      <td>0.000000</td>\n",
       "      <td>0.000000</td>\n",
       "      <td>0.000000</td>\n",
       "      <td>0.000000</td>\n",
       "      <td>0.000000</td>\n",
       "      <td>5137.142857</td>\n",
       "      <td>182.285714</td>\n",
       "      <td>0.000000</td>\n",
       "      <td>165.714286</td>\n",
       "      <td>0.000000</td>\n",
       "    </tr>\n",
       "    <tr>\n",
       "      <th>106</th>\n",
       "      <td>464.0</td>\n",
       "      <td>1325.714286</td>\n",
       "      <td>1160.000000</td>\n",
       "      <td>132.571429</td>\n",
       "      <td>24.857143</td>\n",
       "      <td>0.000000</td>\n",
       "      <td>82.857143</td>\n",
       "      <td>5965.714286</td>\n",
       "      <td>33.142857</td>\n",
       "      <td>0.000000</td>\n",
       "      <td>16.571429</td>\n",
       "      <td>0.000000</td>\n",
       "    </tr>\n",
       "    <tr>\n",
       "      <th>107</th>\n",
       "      <td>464.0</td>\n",
       "      <td>2320.000000</td>\n",
       "      <td>1988.571429</td>\n",
       "      <td>215.428571</td>\n",
       "      <td>33.142857</td>\n",
       "      <td>0.000000</td>\n",
       "      <td>165.714286</td>\n",
       "      <td>2982.857143</td>\n",
       "      <td>99.428571</td>\n",
       "      <td>0.000000</td>\n",
       "      <td>82.857143</td>\n",
       "      <td>0.000000</td>\n",
       "    </tr>\n",
       "  </tbody>\n",
       "</table>\n",
       "<p>108 rows × 12 columns</p>\n",
       "</div>"
      ],
      "text/plain": [
       "     serving size (g)     Calories  Calories from fat  Total fat (g)  \\\n",
       "0               464.0  1134.222222         618.666667      68.740741   \n",
       "1               464.0   931.726908         372.690763      40.995984   \n",
       "2               464.0  1175.890411         667.397260      73.095890   \n",
       "3               464.0   993.062731         445.166052      49.653137   \n",
       "4               464.0  1209.768977         704.422442      78.099010   \n",
       "5               464.0  1225.082508         704.422442      78.099010   \n",
       "6               464.0  1179.661017         681.581921      76.022599   \n",
       "7               464.0  1031.111111         501.621622      55.735736   \n",
       "8               464.0  1206.153846         713.846154      78.769231   \n",
       "9               464.0  1071.774648         548.957746      61.430986   \n",
       "10              464.0  1073.432836         554.029851      62.328358   \n",
       "11              464.0  1498.876404         925.393258     102.966292   \n",
       "12              464.0  1203.773585         547.169811      59.094340   \n",
       "13              464.0  1097.634409         399.139785      39.913978   \n",
       "14              464.0  1204.615385         490.769231      53.538462   \n",
       "15              464.0  1160.000000         486.451613      56.129032   \n",
       "16              464.0  1202.962963         549.925926      61.866667   \n",
       "17              464.0  1285.258216         675.305164      74.065728   \n",
       "18              464.0  1254.054054         543.423423      62.702703   \n",
       "19              464.0  1235.107914         600.863309      66.762590   \n",
       "20              464.0  1202.962963         549.925926      61.866667   \n",
       "21              464.0   968.057554         400.575540      43.395683   \n",
       "22              464.0  1169.430894         528.130081      60.357724   \n",
       "23              464.0  1244.878049         641.300813      71.674797   \n",
       "24              464.0   952.314410         344.454148      38.497817   \n",
       "25              464.0   802.242991         151.775701      15.177570   \n",
       "26              464.0  1363.508772         752.982456      83.438596   \n",
       "27              464.0  1067.200000         371.200000      39.440000   \n",
       "28              464.0  1398.356164         762.739726      84.748858   \n",
       "29              464.0  1098.947368         341.894737      39.073684   \n",
       "..                ...          ...                ...            ...   \n",
       "78              464.0  1336.521739         781.739130      85.739130   \n",
       "79              464.0  1533.559322         904.406780      98.305085   \n",
       "80              464.0  1040.484848         534.303030      59.054545   \n",
       "81              464.0  1329.438202         808.089888      91.235955   \n",
       "82              464.0  1250.496454         658.156028      75.687943   \n",
       "83              464.0  1204.425532         750.297872      82.927660   \n",
       "84              464.0  1644.556962         587.341772      64.607595   \n",
       "85              464.0  1380.952381         828.571429      88.380952   \n",
       "86              464.0  1372.781065         796.213018      90.603550   \n",
       "87              464.0  1381.688889         804.266667      90.737778   \n",
       "88              464.0  1641.846154         713.846154      78.523077   \n",
       "89              464.0  1617.614679         681.100917      76.623853   \n",
       "90              464.0  1474.392523         563.738318      60.710280   \n",
       "91              464.0  2054.857143        1126.857143     125.942857   \n",
       "92              464.0  1718.518519         801.975309      91.654321   \n",
       "93              464.0   734.666667         154.666667      17.400000   \n",
       "94              464.0   685.913043         161.391304      18.156522   \n",
       "95              464.0   879.477124         181.960784      18.196078   \n",
       "96              464.0   883.809524         189.387755      22.095238   \n",
       "97              464.0  2062.222222         773.333333      90.222222   \n",
       "98              464.0  2062.222222         773.333333      90.222222   \n",
       "99              464.0  2062.222222         644.444444      77.333333   \n",
       "100             464.0  1831.578947         549.473684      61.052632   \n",
       "101             464.0  2014.736842         854.736842      91.578947   \n",
       "102             464.0  2075.789474         976.842105     109.894737   \n",
       "103             464.0  1892.631579         732.631579      79.368421   \n",
       "104             464.0   464.000000           0.000000       0.000000   \n",
       "105             464.0   662.857143           0.000000       0.000000   \n",
       "106             464.0  1325.714286        1160.000000     132.571429   \n",
       "107             464.0  2320.000000        1988.571429     215.428571   \n",
       "\n",
       "     Saturated Fat (g)  Trans Fat (g)   Chol (mg)  Sodium (mg)  \\\n",
       "0            20.622222       2.577778  154.666667  1684.148148   \n",
       "1            16.771084       2.795181  149.076305  1565.301205   \n",
       "2            25.424658       3.178082  182.739726  2129.315068   \n",
       "3            22.258303       2.568266  179.778598  2054.612546   \n",
       "4            26.033003       3.062706  191.419142  2388.910891   \n",
       "5            26.033003       3.062706  191.419142  2358.283828   \n",
       "6            26.214689       3.932203  229.378531  1376.271186   \n",
       "7            23.687688       3.483483  229.909910  1267.987988   \n",
       "8            29.538462       3.692308  240.000000  1735.384615   \n",
       "9            27.447887       3.921127  241.802817  1659.943662   \n",
       "10           17.313433       1.731343  138.507463  1350.447761   \n",
       "11           40.404494       4.561798  312.808989  2802.247191   \n",
       "12           26.264151       3.283019  207.924528  2495.094340   \n",
       "13           14.967742       2.494624  149.677419  1895.913978   \n",
       "14           22.307692       2.230769  178.461538  2498.461538   \n",
       "15           22.451613       3.741935  224.516129  1496.774194   \n",
       "16           30.933333       5.155556  240.592593  1993.481481   \n",
       "17           28.319249       3.267606  196.056338  2265.539906   \n",
       "18           25.081081       4.180180  209.009009  2967.927928   \n",
       "19           30.043165       5.007194  250.359712  2203.165468   \n",
       "20           27.496296       5.155556  240.592593  1993.481481   \n",
       "21           20.028777       1.669065  150.215827  2136.402878   \n",
       "22           22.634146       3.772358  113.170732  3621.463415   \n",
       "23           30.178862       3.772358  150.894309  3696.910569   \n",
       "24            8.104803       0.000000  172.227074  1702.008734   \n",
       "25            4.336449       0.000000  162.616822  1604.485981   \n",
       "26           14.245614       0.000000  122.105263  2197.894737   \n",
       "27            6.960000       0.000000  116.000000  2064.800000   \n",
       "28           14.831050       0.000000  158.904110  2478.904110   \n",
       "29            8.547368       0.000000  146.526316  2417.684211   \n",
       "..                 ...            ...         ...          ...   \n",
       "78           35.304348       1.260870  466.521739  3227.826087   \n",
       "79           23.593220       0.000000  137.627119  4010.847458   \n",
       "80           11.248485       0.000000  407.757576  4218.181818   \n",
       "81           23.460674       0.000000  430.112360  3623.370787   \n",
       "82           16.453901       0.000000  460.709220  4047.659574   \n",
       "83           39.489362       0.000000  444.255319  4284.595745   \n",
       "84           35.240506       0.000000   88.101266  1644.556962   \n",
       "85           19.333333       0.000000    0.000000  3203.809524   \n",
       "86           19.218935       0.000000    0.000000  3129.940828   \n",
       "87           18.560000       0.000000    0.000000  3155.200000   \n",
       "88           14.276923       0.000000    0.000000  1856.000000   \n",
       "89           12.770642       0.000000    0.000000  1830.458716   \n",
       "90           26.018692       0.000000    0.000000  1344.299065   \n",
       "91           66.285714       0.000000   33.142857  1325.714286   \n",
       "92           51.555556       0.000000   28.641975  1317.530864   \n",
       "93           11.600000       0.000000   77.333333   580.000000   \n",
       "94           12.104348       0.000000   80.695652   605.217391   \n",
       "95           12.130719       0.000000   75.816993   788.496732   \n",
       "96           15.782313       0.000000   63.129252   694.421769   \n",
       "97           45.111111       0.000000  193.333333  1740.000000   \n",
       "98           38.666667       0.000000  128.888889  1546.666667   \n",
       "99           38.666667       0.000000   64.444444  1611.111111   \n",
       "100          30.526316       0.000000  122.105263  1648.421053   \n",
       "101          48.842105       0.000000  122.105263  1526.315789   \n",
       "102          48.842105       0.000000  122.105263  1465.263158   \n",
       "103          48.842105       0.000000  122.105263  1587.368421   \n",
       "104           0.000000       0.000000    0.000000  5800.000000   \n",
       "105           0.000000       0.000000    0.000000  5137.142857   \n",
       "106          24.857143       0.000000   82.857143  5965.714286   \n",
       "107          33.142857       0.000000  165.714286  2982.857143   \n",
       "\n",
       "     Total Carb (g)  Dietary Fiber (g)  Total Sugar (g)  Protein (g)  \n",
       "0         84.207407           3.437037        18.903704    48.118519  \n",
       "1         91.309237           3.726908        20.497992    52.176707  \n",
       "2         79.452055           3.178082        17.479452    50.849315  \n",
       "3         85.608856           3.424354        18.833948    54.789668  \n",
       "4         76.567657           3.062706        16.844884    53.597360  \n",
       "5         81.161716           3.062706        21.438944    53.597360  \n",
       "6         64.225989           2.621469        14.418079    62.915254  \n",
       "7         68.276276           2.786787        15.327327    65.489489  \n",
       "8         61.538462           2.461538        13.538462    64.000000  \n",
       "9         65.352113           2.614085        14.377465    67.966197  \n",
       "10        93.492537           3.462687        24.238806    45.014925  \n",
       "11        63.865169           2.606742        13.033708    79.505618  \n",
       "12       105.056604           4.377358        21.886792    65.660377  \n",
       "13       129.720430           4.989247        29.935484    54.881720  \n",
       "14       120.461538           4.461538        31.230769    58.000000  \n",
       "15        97.290323           3.741935        22.451613    67.354839  \n",
       "16        92.800000           3.437037        24.059259    68.740741  \n",
       "17        98.028169           4.356808        19.605634    56.638498  \n",
       "18       112.864865           4.180180        29.261261    62.702703  \n",
       "19        90.129496           3.338129        23.366906    70.100719  \n",
       "20        92.800000           3.437037        24.059259    68.740741  \n",
       "21        93.467626           3.338129        23.366906    46.733813  \n",
       "22       120.715447           7.544715        37.723577    41.495935  \n",
       "23       105.626016           7.544715        18.861789    52.813008  \n",
       "24        79.021834          12.157205        14.183406    74.969432  \n",
       "25        84.560748          13.009346        15.177570    78.056075  \n",
       "26       109.894737           4.070175        16.280702    46.807018  \n",
       "27       125.280000           4.640000        16.240000    53.360000  \n",
       "28       101.698630           4.237443        10.593607    59.324201  \n",
       "29       117.221053           4.884211         9.768421    68.378947  \n",
       "..              ...                ...              ...          ...  \n",
       "78        78.173913           2.521739        12.608696    58.000000  \n",
       "79       110.101695           3.932203         7.864407    47.186441  \n",
       "80        84.363636           2.812121         8.436364    44.993939  \n",
       "81        75.595506           2.606742         5.213483    46.921348  \n",
       "82        95.432624           3.290780         6.581560    42.780142  \n",
       "83        61.208511           1.974468         7.897872    55.285106  \n",
       "84       240.810127          11.746835       129.215190    23.493671  \n",
       "85       132.571429          16.571429         0.000000    11.047619  \n",
       "86       131.786982          19.218935         0.000000    10.982249  \n",
       "87       134.044444          18.560000         0.000000    10.311111  \n",
       "88       207.015385           7.138462        57.107692    21.415385  \n",
       "89       208.587156           8.513761        55.339450    21.284404  \n",
       "90       221.158879           4.336449       108.411215    13.009346  \n",
       "91       205.485714          13.257143       139.200000    33.142857  \n",
       "92       206.222222           5.728395       143.209877    22.913580  \n",
       "93       123.733333           0.000000        92.800000    19.333333  \n",
       "94       112.973913           0.000000        96.834783    20.173913  \n",
       "95       160.732026           0.000000       118.274510    18.196078  \n",
       "96       148.353741           3.156463       129.414966    18.938776  \n",
       "97       283.555556           0.000000       154.666667    25.777778  \n",
       "98       283.555556          12.888889       180.444444    25.777778  \n",
       "99       296.444444           0.000000       180.444444    12.888889  \n",
       "100      305.263158          12.210526       158.736842    24.421053  \n",
       "101      286.947368           6.105263       177.052632    18.315789  \n",
       "102      268.631579           0.000000       170.947368    24.421053  \n",
       "103      280.842105          18.315789       158.736842    24.421053  \n",
       "104      139.200000           0.000000        92.800000     0.000000  \n",
       "105      182.285714           0.000000       165.714286     0.000000  \n",
       "106       33.142857           0.000000        16.571429     0.000000  \n",
       "107       99.428571           0.000000        82.857143     0.000000  \n",
       "\n",
       "[108 rows x 12 columns]"
      ]
     },
     "execution_count": 35,
     "metadata": {},
     "output_type": "execute_result"
    }
   ],
   "source": [
    "df"
   ]
  },
  {
   "cell_type": "code",
   "execution_count": 36,
   "metadata": {},
   "outputs": [
    {
     "data": {
      "image/png": "[encoded data removed]",
      "text/plain": [
       "<matplotlib.figure.Figure at 0x1160281d0>"
      ]
     },
     "metadata": {},
     "output_type": "display_data"
    }
   ],
   "source": [
    "fig, ax = plt.subplots(2,5,figsize=(15,15))\n",
    "k = 2\n",
    "for i in range(0, 2):\n",
    "    for j in range(0, 5):\n",
    "        df.plot.scatter(ax = ax[i,j] ,x='Calories', y=df.columns[k],color='YellowGreen',edgecolor='DarkGreen',s=20);\n",
    "        k = k + 1\n",
    "fig.tight_layout()"
   ]
  },
  {
   "cell_type": "markdown",
   "metadata": {},
   "source": [
    "2.16 คํานวณค่าสหสัมพันธ์ (correlation) ระหว่าง Calories และสารอาหารอื่นๆ"
   ]
  },
  {
   "cell_type": "code",
   "execution_count": 37,
   "metadata": {},
   "outputs": [
    {
     "name": "stdout",
     "output_type": "stream",
     "text": [
      "Correlation between Calories and  Total fat (g)  :  0.822282659511\n",
      "Correlation between Calories and  Saturated Fat (g)  :  0.646009547445\n",
      "Correlation between Calories and  Trans Fat (g)  :  -0.0855395739594\n",
      "Correlation between Calories and  Chol (mg)  :  0.0847179470534\n",
      "Correlation between Calories and  Sodium (mg)  :  0.239843442912\n",
      "Correlation between Calories and  Total Carb (g)  :  0.653532271306\n",
      "Correlation between Calories and  Dietary Fiber (g)  :  0.141014123008\n",
      "Correlation between Calories and  Total Sugar (g)  :  0.393023932699\n",
      "Correlation between Calories and  Protein (g)  :  -0.0777115402102\n"
     ]
    }
   ],
   "source": [
    "for i in range(3, len(df.columns)):\n",
    "        print('Correlation between Calories and ',df.columns[i],' : ',df['Calories'].corr(df[df.columns[i]]))\n",
    "        "
   ]
  },
  {
   "cell_type": "markdown",
   "metadata": {},
   "source": [
    "<b>หมายเหตุ:</b> เมื่อพิจารณาจากตารางค่าสหสัมพันธ์ จะพบว่า:<br>\n",
    "• Calories from fat, Total fat (g), Saturated Fat (g), Chol (mg), Sodium (mg), Total Carb (g), และ\n",
    "Protein (g) มีค่าสหสัมพันธ์กับ Calories เกินกว่า 0.60<br>\n",
    "• Calories from fat และ Total fat (g) มีค่าสหสัมพันธ์กัน 0.99 ซึ่งเสมือนเป็นค่าเดียวกัน<br>\n",
    "• ค่าปริมาณไขมัน Total fat (g) สามารถแยกเป็น Trans fat (g) และ Saturated fat (g) ซึ่งเราจะใช้สองค่านี้ แทน Total fat (g)<br>\n",
    "• Calories from fat และ Total fat (g) มีค่าสหสัมพันธ์กัน 0.99 ซึ่งเสมือนเป็นค่าเดียวกัน ดังนั้นเราจะตัด Calories from fat ออกเช่นกัน<br>"
   ]
  },
  {
   "cell_type": "markdown",
   "metadata": {},
   "source": [
    "### 3. Regression Analysis"
   ]
  },
  {
   "cell_type": "markdown",
   "metadata": {},
   "source": [
    "จากการทํา data wrangling and pre-processing ในขั้นตอนก่อนหน้านี้ ทําให้เราสามารถสร้างสมการถดถอยชนิด หลายตัวแปรได้ดังนี้<br><br>\n",
    "$$Y =b0+b1·X1+b2·X2+b3·X3+b4·X4+b5·X5+b6·X6+b7·X7$$ <br>โดยที่<br>\n",
    "• Y = ’Calories’<br>\n",
    "• X1 = ’Saturated Fat (g)’<br>\n",
    "• X2 = ’Trans Fat (g)’<br>\n",
    "• X3 = ’Chol (mg)’<br>\n",
    "• X4 = ’Sodium (mg)’<br>\n",
    "• X5 = ’Total Carb (g)’<br>\n",
    "• X6 = ’Total Sugar (g)’<br>\n",
    "• X7 = ’Protein (g)’<br>"
   ]
  },
  {
   "cell_type": "code",
   "execution_count": 38,
   "metadata": {
    "collapsed": true
   },
   "outputs": [],
   "source": [
    "X = df[['Saturated Fat (g)', 'Trans Fat (g)', 'Chol (mg)', 'Sodium (mg)', 'Total Carb (g)',\n",
    "        'Total Sugar (g)', 'Protein (g)']]\n",
    "y = df[['Calories']]"
   ]
  },
  {
   "cell_type": "markdown",
   "metadata": {},
   "source": [
    "3.1. สร้างสมการถดถอยจากชุดข้อมูลและเก็บไว้ในตัวแปรชื่อ model1"
   ]
  },
  {
   "cell_type": "code",
   "execution_count": 39,
   "metadata": {
    "collapsed": true
   },
   "outputs": [],
   "source": [
    "model1 = smf.ols(formula='y~X', data=df).fit()"
   ]
  },
  {
   "cell_type": "markdown",
   "metadata": {},
   "source": [
    "3.2 แสดงค่าสัมประสิทธิ์ของสมการสําหรับ model1"
   ]
  },
  {
   "cell_type": "code",
   "execution_count": 40,
   "metadata": {},
   "outputs": [
    {
     "data": {
      "text/plain": [
       "Intercept    145.039878\n",
       "X[0]          20.664067\n",
       "X[1]         -44.634055\n",
       "X[2]          -0.322857\n",
       "X[3]           0.068221\n",
       "X[4]           4.576009\n",
       "X[5]          -3.123829\n",
       "X[6]           3.786273\n",
       "dtype: float64"
      ]
     },
     "execution_count": 40,
     "metadata": {},
     "output_type": "execute_result"
    }
   ],
   "source": [
    "model1.params"
   ]
  },
  {
   "cell_type": "markdown",
   "metadata": {},
   "source": [
    "3.3 แสดงข้อมูลทางสถิติของmodel1"
   ]
  },
  {
   "cell_type": "code",
   "execution_count": 41,
   "metadata": {},
   "outputs": [
    {
     "data": {
      "text/html": [
       "<table class=\"simpletable\">\n",
       "<caption>OLS Regression Results</caption>\n",
       "<tr>\n",
       "  <th>Dep. Variable:</th>            <td>y</td>        <th>  R-squared:         </th> <td>   0.816</td>\n",
       "</tr>\n",
       "<tr>\n",
       "  <th>Model:</th>                   <td>OLS</td>       <th>  Adj. R-squared:    </th> <td>   0.803</td>\n",
       "</tr>\n",
       "<tr>\n",
       "  <th>Method:</th>             <td>Least Squares</td>  <th>  F-statistic:       </th> <td>   63.43</td>\n",
       "</tr>\n",
       "<tr>\n",
       "  <th>Date:</th>             <td>Fri, 02 Mar 2018</td> <th>  Prob (F-statistic):</th> <td>5.83e-34</td>\n",
       "</tr>\n",
       "<tr>\n",
       "  <th>Time:</th>                 <td>20:51:40</td>     <th>  Log-Likelihood:    </th> <td> -707.22</td>\n",
       "</tr>\n",
       "<tr>\n",
       "  <th>No. Observations:</th>      <td>   108</td>      <th>  AIC:               </th> <td>   1430.</td>\n",
       "</tr>\n",
       "<tr>\n",
       "  <th>Df Residuals:</th>          <td>   100</td>      <th>  BIC:               </th> <td>   1452.</td>\n",
       "</tr>\n",
       "<tr>\n",
       "  <th>Df Model:</th>              <td>     7</td>      <th>                     </th>     <td> </td>   \n",
       "</tr>\n",
       "<tr>\n",
       "  <th>Covariance Type:</th>      <td>nonrobust</td>    <th>                     </th>     <td> </td>   \n",
       "</tr>\n",
       "</table>\n",
       "<table class=\"simpletable\">\n",
       "<tr>\n",
       "      <td></td>         <th>coef</th>     <th>std err</th>      <th>t</th>      <th>P>|t|</th>  <th>[0.025</th>    <th>0.975]</th>  \n",
       "</tr>\n",
       "<tr>\n",
       "  <th>Intercept</th> <td>  145.0399</td> <td>   76.427</td> <td>    1.898</td> <td> 0.061</td> <td>   -6.590</td> <td>  296.670</td>\n",
       "</tr>\n",
       "<tr>\n",
       "  <th>X[0]</th>      <td>   20.6641</td> <td>    1.911</td> <td>   10.811</td> <td> 0.000</td> <td>   16.872</td> <td>   24.456</td>\n",
       "</tr>\n",
       "<tr>\n",
       "  <th>X[1]</th>      <td>  -44.6341</td> <td>   14.381</td> <td>   -3.104</td> <td> 0.002</td> <td>  -73.166</td> <td>  -16.102</td>\n",
       "</tr>\n",
       "<tr>\n",
       "  <th>X[2]</th>      <td>   -0.3229</td> <td>    0.166</td> <td>   -1.945</td> <td> 0.055</td> <td>   -0.652</td> <td>    0.006</td>\n",
       "</tr>\n",
       "<tr>\n",
       "  <th>X[3]</th>      <td>    0.0682</td> <td>    0.017</td> <td>    4.058</td> <td> 0.000</td> <td>    0.035</td> <td>    0.102</td>\n",
       "</tr>\n",
       "<tr>\n",
       "  <th>X[4]</th>      <td>    4.5760</td> <td>    0.432</td> <td>   10.584</td> <td> 0.000</td> <td>    3.718</td> <td>    5.434</td>\n",
       "</tr>\n",
       "<tr>\n",
       "  <th>X[5]</th>      <td>   -3.1238</td> <td>    0.630</td> <td>   -4.956</td> <td> 0.000</td> <td>   -4.374</td> <td>   -1.873</td>\n",
       "</tr>\n",
       "<tr>\n",
       "  <th>X[6]</th>      <td>    3.7863</td> <td>    1.235</td> <td>    3.067</td> <td> 0.003</td> <td>    1.337</td> <td>    6.236</td>\n",
       "</tr>\n",
       "</table>\n",
       "<table class=\"simpletable\">\n",
       "<tr>\n",
       "  <th>Omnibus:</th>       <td>96.461</td> <th>  Durbin-Watson:     </th> <td>   1.030</td>\n",
       "</tr>\n",
       "<tr>\n",
       "  <th>Prob(Omnibus):</th> <td> 0.000</td> <th>  Jarque-Bera (JB):  </th> <td>1525.490</td>\n",
       "</tr>\n",
       "<tr>\n",
       "  <th>Skew:</th>          <td> 2.715</td> <th>  Prob(JB):          </th> <td>    0.00</td>\n",
       "</tr>\n",
       "<tr>\n",
       "  <th>Kurtosis:</th>      <td>20.593</td> <th>  Cond. No.          </th> <td>1.22e+04</td>\n",
       "</tr>\n",
       "</table>"
      ],
      "text/plain": [
       "<class 'statsmodels.iolib.summary.Summary'>\n",
       "\"\"\"\n",
       "                            OLS Regression Results                            \n",
       "==============================================================================\n",
       "Dep. Variable:                      y   R-squared:                       0.816\n",
       "Model:                            OLS   Adj. R-squared:                  0.803\n",
       "Method:                 Least Squares   F-statistic:                     63.43\n",
       "Date:                Fri, 02 Mar 2018   Prob (F-statistic):           5.83e-34\n",
       "Time:                        20:51:40   Log-Likelihood:                -707.22\n",
       "No. Observations:                 108   AIC:                             1430.\n",
       "Df Residuals:                     100   BIC:                             1452.\n",
       "Df Model:                           7                                         \n",
       "Covariance Type:            nonrobust                                         \n",
       "==============================================================================\n",
       "                 coef    std err          t      P>|t|      [0.025      0.975]\n",
       "------------------------------------------------------------------------------\n",
       "Intercept    145.0399     76.427      1.898      0.061      -6.590     296.670\n",
       "X[0]          20.6641      1.911     10.811      0.000      16.872      24.456\n",
       "X[1]         -44.6341     14.381     -3.104      0.002     -73.166     -16.102\n",
       "X[2]          -0.3229      0.166     -1.945      0.055      -0.652       0.006\n",
       "X[3]           0.0682      0.017      4.058      0.000       0.035       0.102\n",
       "X[4]           4.5760      0.432     10.584      0.000       3.718       5.434\n",
       "X[5]          -3.1238      0.630     -4.956      0.000      -4.374      -1.873\n",
       "X[6]           3.7863      1.235      3.067      0.003       1.337       6.236\n",
       "==============================================================================\n",
       "Omnibus:                       96.461   Durbin-Watson:                   1.030\n",
       "Prob(Omnibus):                  0.000   Jarque-Bera (JB):             1525.490\n",
       "Skew:                           2.715   Prob(JB):                         0.00\n",
       "Kurtosis:                      20.593   Cond. No.                     1.22e+04\n",
       "==============================================================================\n",
       "\n",
       "Warnings:\n",
       "[1] Standard Errors assume that the covariance matrix of the errors is correctly specified.\n",
       "[2] The condition number is large, 1.22e+04. This might indicate that there are\n",
       "strong multicollinearity or other numerical problems.\n",
       "\"\"\""
      ]
     },
     "execution_count": 41,
     "metadata": {},
     "output_type": "execute_result"
    }
   ],
   "source": [
    "model1.summary()"
   ]
  },
  {
   "cell_type": "markdown",
   "metadata": {},
   "source": [
    "<b>หมายเหตุ:</b> จากค่าสรุป จะพบว่า ตัวแปรทำนายทุกตัวมีค่า p-value ต่ำกว่า 0.05 และค่า Adjusted R-squared เท่ากับ 0.945 ซึ่งเป็นค่าสูง แต่อย่างไรก็ตาม ค่า p-value ของ intercept เท่ากับ 0.087 ซึ่งสูงกว่า 0.05 ดังนั้นเราจะลองตัดค่าสัมประสิทธิ์ออก โดยบังคับให้สมการถดถอยตัดที่จุดกำเนิด เช่น (0, 0, 0, 0, 0, 0, 0)"
   ]
  },
  {
   "cell_type": "markdown",
   "metadata": {},
   "source": [
    "3.4 ทดลองสร้างสมการถดถอย โดยไม่ใช้ค่า intercept <br>—ใช้สมการ $$formula =y\\sim X − 1$$ และให้เก็บไว้ในตัวแปรชื่อ model2\n"
   ]
  },
  {
   "cell_type": "code",
   "execution_count": 42,
   "metadata": {
    "collapsed": true
   },
   "outputs": [],
   "source": [
    "model2 = smf.ols(formula='y~X-1', data=df).fit()"
   ]
  },
  {
   "cell_type": "markdown",
   "metadata": {},
   "source": [
    "3.5 แสดงค่าสัมประสิทธิ์ของสมการสำหรับ model2"
   ]
  },
  {
   "cell_type": "code",
   "execution_count": 43,
   "metadata": {},
   "outputs": [
    {
     "data": {
      "text/plain": [
       "X[0]    20.851062\n",
       "X[1]   -46.539925\n",
       "X[2]    -0.349911\n",
       "X[3]     0.082598\n",
       "X[4]     4.914172\n",
       "X[5]    -3.015981\n",
       "X[6]     5.240656\n",
       "dtype: float64"
      ]
     },
     "execution_count": 43,
     "metadata": {},
     "output_type": "execute_result"
    }
   ],
   "source": [
    "model2.params"
   ]
  },
  {
   "cell_type": "code",
   "execution_count": 44,
   "metadata": {},
   "outputs": [
    {
     "data": {
      "text/html": [
       "<table class=\"simpletable\">\n",
       "<caption>OLS Regression Results</caption>\n",
       "<tr>\n",
       "  <th>Dep. Variable:</th>            <td>y</td>        <th>  R-squared:         </th> <td>   0.983</td>\n",
       "</tr>\n",
       "<tr>\n",
       "  <th>Model:</th>                   <td>OLS</td>       <th>  Adj. R-squared:    </th> <td>   0.982</td>\n",
       "</tr>\n",
       "<tr>\n",
       "  <th>Method:</th>             <td>Least Squares</td>  <th>  F-statistic:       </th> <td>   825.7</td>\n",
       "</tr>\n",
       "<tr>\n",
       "  <th>Date:</th>             <td>Fri, 02 Mar 2018</td> <th>  Prob (F-statistic):</th> <td>4.13e-86</td>\n",
       "</tr>\n",
       "<tr>\n",
       "  <th>Time:</th>                 <td>20:51:40</td>     <th>  Log-Likelihood:    </th> <td> -709.13</td>\n",
       "</tr>\n",
       "<tr>\n",
       "  <th>No. Observations:</th>      <td>   108</td>      <th>  AIC:               </th> <td>   1432.</td>\n",
       "</tr>\n",
       "<tr>\n",
       "  <th>Df Residuals:</th>          <td>   101</td>      <th>  BIC:               </th> <td>   1451.</td>\n",
       "</tr>\n",
       "<tr>\n",
       "  <th>Df Model:</th>              <td>     7</td>      <th>                     </th>     <td> </td>   \n",
       "</tr>\n",
       "<tr>\n",
       "  <th>Covariance Type:</th>      <td>nonrobust</td>    <th>                     </th>     <td> </td>   \n",
       "</tr>\n",
       "</table>\n",
       "<table class=\"simpletable\">\n",
       "<tr>\n",
       "    <td></td>      <th>coef</th>     <th>std err</th>      <th>t</th>      <th>P>|t|</th>  <th>[0.025</th>    <th>0.975]</th>  \n",
       "</tr>\n",
       "<tr>\n",
       "  <th>X[0]</th> <td>   20.8511</td> <td>    1.933</td> <td>   10.786</td> <td> 0.000</td> <td>   17.016</td> <td>   24.686</td>\n",
       "</tr>\n",
       "<tr>\n",
       "  <th>X[1]</th> <td>  -46.5399</td> <td>   14.530</td> <td>   -3.203</td> <td> 0.002</td> <td>  -75.363</td> <td>  -17.717</td>\n",
       "</tr>\n",
       "<tr>\n",
       "  <th>X[2]</th> <td>   -0.3499</td> <td>    0.167</td> <td>   -2.089</td> <td> 0.039</td> <td>   -0.682</td> <td>   -0.018</td>\n",
       "</tr>\n",
       "<tr>\n",
       "  <th>X[3]</th> <td>    0.0826</td> <td>    0.015</td> <td>    5.435</td> <td> 0.000</td> <td>    0.052</td> <td>    0.113</td>\n",
       "</tr>\n",
       "<tr>\n",
       "  <th>X[4]</th> <td>    4.9142</td> <td>    0.399</td> <td>   12.318</td> <td> 0.000</td> <td>    4.123</td> <td>    5.706</td>\n",
       "</tr>\n",
       "<tr>\n",
       "  <th>X[5]</th> <td>   -3.0160</td> <td>    0.636</td> <td>   -4.743</td> <td> 0.000</td> <td>   -4.277</td> <td>   -1.755</td>\n",
       "</tr>\n",
       "<tr>\n",
       "  <th>X[6]</th> <td>    5.2407</td> <td>    0.980</td> <td>    5.346</td> <td> 0.000</td> <td>    3.296</td> <td>    7.185</td>\n",
       "</tr>\n",
       "</table>\n",
       "<table class=\"simpletable\">\n",
       "<tr>\n",
       "  <th>Omnibus:</th>       <td>102.604</td> <th>  Durbin-Watson:     </th> <td>   1.009</td>\n",
       "</tr>\n",
       "<tr>\n",
       "  <th>Prob(Omnibus):</th> <td> 0.000</td>  <th>  Jarque-Bera (JB):  </th> <td>1906.749</td>\n",
       "</tr>\n",
       "<tr>\n",
       "  <th>Skew:</th>          <td> 2.907</td>  <th>  Prob(JB):          </th> <td>    0.00</td>\n",
       "</tr>\n",
       "<tr>\n",
       "  <th>Kurtosis:</th>      <td>22.747</td>  <th>  Cond. No.          </th> <td>2.29e+03</td>\n",
       "</tr>\n",
       "</table>"
      ],
      "text/plain": [
       "<class 'statsmodels.iolib.summary.Summary'>\n",
       "\"\"\"\n",
       "                            OLS Regression Results                            \n",
       "==============================================================================\n",
       "Dep. Variable:                      y   R-squared:                       0.983\n",
       "Model:                            OLS   Adj. R-squared:                  0.982\n",
       "Method:                 Least Squares   F-statistic:                     825.7\n",
       "Date:                Fri, 02 Mar 2018   Prob (F-statistic):           4.13e-86\n",
       "Time:                        20:51:40   Log-Likelihood:                -709.13\n",
       "No. Observations:                 108   AIC:                             1432.\n",
       "Df Residuals:                     101   BIC:                             1451.\n",
       "Df Model:                           7                                         \n",
       "Covariance Type:            nonrobust                                         \n",
       "==============================================================================\n",
       "                 coef    std err          t      P>|t|      [0.025      0.975]\n",
       "------------------------------------------------------------------------------\n",
       "X[0]          20.8511      1.933     10.786      0.000      17.016      24.686\n",
       "X[1]         -46.5399     14.530     -3.203      0.002     -75.363     -17.717\n",
       "X[2]          -0.3499      0.167     -2.089      0.039      -0.682      -0.018\n",
       "X[3]           0.0826      0.015      5.435      0.000       0.052       0.113\n",
       "X[4]           4.9142      0.399     12.318      0.000       4.123       5.706\n",
       "X[5]          -3.0160      0.636     -4.743      0.000      -4.277      -1.755\n",
       "X[6]           5.2407      0.980      5.346      0.000       3.296       7.185\n",
       "==============================================================================\n",
       "Omnibus:                      102.604   Durbin-Watson:                   1.009\n",
       "Prob(Omnibus):                  0.000   Jarque-Bera (JB):             1906.749\n",
       "Skew:                           2.907   Prob(JB):                         0.00\n",
       "Kurtosis:                      22.747   Cond. No.                     2.29e+03\n",
       "==============================================================================\n",
       "\n",
       "Warnings:\n",
       "[1] Standard Errors assume that the covariance matrix of the errors is correctly specified.\n",
       "[2] The condition number is large, 2.29e+03. This might indicate that there are\n",
       "strong multicollinearity or other numerical problems.\n",
       "\"\"\""
      ]
     },
     "execution_count": 44,
     "metadata": {},
     "output_type": "execute_result"
    }
   ],
   "source": [
    "model2.summary()"
   ]
  },
  {
   "cell_type": "markdown",
   "metadata": {},
   "source": [
    "<b>หมายเหตุ:</b> ผลลัพธ์จากการตัดค่า intercept ออกพบว่า ค่า p-Value ของตัวแปรทำนายทุก ตัวมี่ค่าต่ำกว่า 0.05 และค่า Adjusted R-squared เพิ่มขึ้นเป็น 0.987 อย่างไรก็ตาม สมการถดถอยที่ไม่มีค่า intercept อยู่จะหมายถึง สมการที่ปริมาณแคลลอรี่ ขึ้นอยู่กับปริมาณสารอาหารในตัวแปรที่กำหนดเท่านั้น แต่ในความเปนจริงอาจจะขึ้นอยู่กับปริมาณสารอาหารอื่นๆที่ ไม่ได้อยู่ในสมการก็ได้ ดังนั้นสมการจึงไม่สะท้อนถึงข้อเท็จจริงเท่าไหร่ —ตรวจดูการประเมินสมรรถนะในเนื้อหาส่วนถัดไป"
   ]
  },
  {
   "cell_type": "markdown",
   "metadata": {},
   "source": [
    "### 4. Performance Evaluation\n"
   ]
  },
  {
   "cell_type": "markdown",
   "metadata": {},
   "source": [
    "นอกจากค่า p-Value และค่า Adjusted R-squared ที่ใช้สำหรับการบ่งชี้ถึงโมเดลสมการถดถอยที่ดีแล้วเราสามารถใช้ค่าความคลาดเคลื่อนจากการทำนายในการประเมินสมรรถนะของแบบจำลองเช่นกัน ซึ่งค่าที่รู้จักกันดีคือ Root Mean Squared Error (RMSE)"
   ]
  },
  {
   "cell_type": "markdown",
   "metadata": {},
   "source": [
    "4.1 ทำนายค่า Calories จาก model1 และ model2\n"
   ]
  },
  {
   "cell_type": "code",
   "execution_count": 45,
   "metadata": {
    "collapsed": true
   },
   "outputs": [],
   "source": [
    "ypred1 = model1.predict(X)\n",
    "ypred2 = model2.predict(X)"
   ]
  },
  {
   "cell_type": "markdown",
   "metadata": {},
   "source": [
    "4.2 คำนวณค่า root mean squared error ของ model1 และ model2"
   ]
  },
  {
   "cell_type": "code",
   "execution_count": 46,
   "metadata": {
    "collapsed": true
   },
   "outputs": [],
   "source": [
    "rmse1 = sqrt(mean_squared_error(y, ypred1))\n",
    "rmse2 = sqrt(mean_squared_error(y, ypred2))"
   ]
  },
  {
   "cell_type": "code",
   "execution_count": 47,
   "metadata": {},
   "outputs": [
    {
     "name": "stdout",
     "output_type": "stream",
     "text": [
      "RMSE for Model 1 : 168.910034709306\n",
      "RMSE for Model 2 : 171.9247370129217\n"
     ]
    }
   ],
   "source": [
    "print ('RMSE for Model 1 :',rmse1)\n",
    "print ('RMSE for Model 2 :',rmse2)"
   ]
  },
  {
   "cell_type": "markdown",
   "metadata": {},
   "source": [
    "4.3 มีแบบจําลองสมการถดถอยที่ดีกว่า model1 และ model2 หรือไม่ ในแง่ของการมีค่า RMSE ที่ต่ำกว่าและใช้ intercept ถ้ามี แสดงวิธีการที่ได้มา ผลลัพธ์การคํานวณ (คะแนนพิเศษ 5 คะแนน)"
   ]
  },
  {
   "cell_type": "code",
   "execution_count": 48,
   "metadata": {
    "collapsed": true
   },
   "outputs": [],
   "source": [
    "model3 = smf.glsar(formula='y~X',data=df).fit()\n",
    "#model3 = smf.gls(formula='y~X',data=df).fit()"
   ]
  },
  {
   "cell_type": "code",
   "execution_count": 49,
   "metadata": {},
   "outputs": [
    {
     "data": {
      "text/html": [
       "<table class=\"simpletable\">\n",
       "<caption>GLSAR Regression Results</caption>\n",
       "<tr>\n",
       "  <th>Dep. Variable:</th>            <td>y</td>        <th>  R-squared:         </th> <td>   0.817</td>\n",
       "</tr>\n",
       "<tr>\n",
       "  <th>Model:</th>                  <td>GLSAR</td>      <th>  Adj. R-squared:    </th> <td>   0.804</td>\n",
       "</tr>\n",
       "<tr>\n",
       "  <th>Method:</th>             <td>Least Squares</td>  <th>  F-statistic:       </th> <td>   63.02</td>\n",
       "</tr>\n",
       "<tr>\n",
       "  <th>Date:</th>             <td>Fri, 02 Mar 2018</td> <th>  Prob (F-statistic):</th> <td>1.16e-33</td>\n",
       "</tr>\n",
       "<tr>\n",
       "  <th>Time:</th>                 <td>20:51:40</td>     <th>  Log-Likelihood:    </th> <td> -700.97</td>\n",
       "</tr>\n",
       "<tr>\n",
       "  <th>No. Observations:</th>      <td>   107</td>      <th>  AIC:               </th> <td>   1418.</td>\n",
       "</tr>\n",
       "<tr>\n",
       "  <th>Df Residuals:</th>          <td>    99</td>      <th>  BIC:               </th> <td>   1439.</td>\n",
       "</tr>\n",
       "<tr>\n",
       "  <th>Df Model:</th>              <td>     7</td>      <th>                     </th>     <td> </td>   \n",
       "</tr>\n",
       "<tr>\n",
       "  <th>Covariance Type:</th>      <td>nonrobust</td>    <th>                     </th>     <td> </td>   \n",
       "</tr>\n",
       "</table>\n",
       "<table class=\"simpletable\">\n",
       "<tr>\n",
       "      <td></td>         <th>coef</th>     <th>std err</th>      <th>t</th>      <th>P>|t|</th>  <th>[0.025</th>    <th>0.975]</th>  \n",
       "</tr>\n",
       "<tr>\n",
       "  <th>Intercept</th> <td>  141.4432</td> <td>   76.904</td> <td>    1.839</td> <td> 0.069</td> <td>  -11.150</td> <td>  294.037</td>\n",
       "</tr>\n",
       "<tr>\n",
       "  <th>X[0]</th>      <td>   20.6659</td> <td>    1.917</td> <td>   10.778</td> <td> 0.000</td> <td>   16.861</td> <td>   24.471</td>\n",
       "</tr>\n",
       "<tr>\n",
       "  <th>X[1]</th>      <td>  -45.4825</td> <td>   14.496</td> <td>   -3.138</td> <td> 0.002</td> <td>  -74.245</td> <td>  -16.720</td>\n",
       "</tr>\n",
       "<tr>\n",
       "  <th>X[2]</th>      <td>   -0.3222</td> <td>    0.167</td> <td>   -1.935</td> <td> 0.056</td> <td>   -0.653</td> <td>    0.008</td>\n",
       "</tr>\n",
       "<tr>\n",
       "  <th>X[3]</th>      <td>    0.0687</td> <td>    0.017</td> <td>    4.071</td> <td> 0.000</td> <td>    0.035</td> <td>    0.102</td>\n",
       "</tr>\n",
       "<tr>\n",
       "  <th>X[4]</th>      <td>    4.5798</td> <td>    0.434</td> <td>   10.558</td> <td> 0.000</td> <td>    3.719</td> <td>    5.440</td>\n",
       "</tr>\n",
       "<tr>\n",
       "  <th>X[5]</th>      <td>   -3.1156</td> <td>    0.633</td> <td>   -4.926</td> <td> 0.000</td> <td>   -4.371</td> <td>   -1.861</td>\n",
       "</tr>\n",
       "<tr>\n",
       "  <th>X[6]</th>      <td>    3.8139</td> <td>    1.239</td> <td>    3.077</td> <td> 0.003</td> <td>    1.355</td> <td>    6.273</td>\n",
       "</tr>\n",
       "</table>\n",
       "<table class=\"simpletable\">\n",
       "<tr>\n",
       "  <th>Omnibus:</th>       <td>96.039</td> <th>  Durbin-Watson:     </th> <td>   1.026</td>\n",
       "</tr>\n",
       "<tr>\n",
       "  <th>Prob(Omnibus):</th> <td> 0.000</td> <th>  Jarque-Bera (JB):  </th> <td>1514.690</td>\n",
       "</tr>\n",
       "<tr>\n",
       "  <th>Skew:</th>          <td> 2.724</td> <th>  Prob(JB):          </th> <td>    0.00</td>\n",
       "</tr>\n",
       "<tr>\n",
       "  <th>Kurtosis:</th>      <td>20.608</td> <th>  Cond. No.          </th> <td>1.22e+04</td>\n",
       "</tr>\n",
       "</table>"
      ],
      "text/plain": [
       "<class 'statsmodels.iolib.summary.Summary'>\n",
       "\"\"\"\n",
       "                           GLSAR Regression Results                           \n",
       "==============================================================================\n",
       "Dep. Variable:                      y   R-squared:                       0.817\n",
       "Model:                          GLSAR   Adj. R-squared:                  0.804\n",
       "Method:                 Least Squares   F-statistic:                     63.02\n",
       "Date:                Fri, 02 Mar 2018   Prob (F-statistic):           1.16e-33\n",
       "Time:                        20:51:40   Log-Likelihood:                -700.97\n",
       "No. Observations:                 107   AIC:                             1418.\n",
       "Df Residuals:                      99   BIC:                             1439.\n",
       "Df Model:                           7                                         \n",
       "Covariance Type:            nonrobust                                         \n",
       "==============================================================================\n",
       "                 coef    std err          t      P>|t|      [0.025      0.975]\n",
       "------------------------------------------------------------------------------\n",
       "Intercept    141.4432     76.904      1.839      0.069     -11.150     294.037\n",
       "X[0]          20.6659      1.917     10.778      0.000      16.861      24.471\n",
       "X[1]         -45.4825     14.496     -3.138      0.002     -74.245     -16.720\n",
       "X[2]          -0.3222      0.167     -1.935      0.056      -0.653       0.008\n",
       "X[3]           0.0687      0.017      4.071      0.000       0.035       0.102\n",
       "X[4]           4.5798      0.434     10.558      0.000       3.719       5.440\n",
       "X[5]          -3.1156      0.633     -4.926      0.000      -4.371      -1.861\n",
       "X[6]           3.8139      1.239      3.077      0.003       1.355       6.273\n",
       "==============================================================================\n",
       "Omnibus:                       96.039   Durbin-Watson:                   1.026\n",
       "Prob(Omnibus):                  0.000   Jarque-Bera (JB):             1514.690\n",
       "Skew:                           2.724   Prob(JB):                         0.00\n",
       "Kurtosis:                      20.608   Cond. No.                     1.22e+04\n",
       "==============================================================================\n",
       "\n",
       "Warnings:\n",
       "[1] Standard Errors assume that the covariance matrix of the errors is correctly specified.\n",
       "[2] The condition number is large, 1.22e+04. This might indicate that there are\n",
       "strong multicollinearity or other numerical problems.\n",
       "\"\"\""
      ]
     },
     "execution_count": 49,
     "metadata": {},
     "output_type": "execute_result"
    }
   ],
   "source": [
    "model3.summary()"
   ]
  },
  {
   "cell_type": "code",
   "execution_count": 51,
   "metadata": {},
   "outputs": [
    {
     "name": "stdout",
     "output_type": "stream",
     "text": [
      "RMSE for Model 3 : 168.9187438381905\n"
     ]
    }
   ],
   "source": [
    "ypred3 = model3.predict(X)\n",
    "rmse3 = sqrt(mean_squared_error(y, ypred3))\n",
    "print ('RMSE for Model 3 :',rmse3)"
   ]
  },
  {
   "cell_type": "markdown",
   "metadata": {},
   "source": [
    "ยังไม่สามารถหา model ที่ดีกว่า model1 , model2 ได้"
   ]
  }
 ],
 "metadata": {
  "kernelspec": {
   "display_name": "Python 3",
   "language": "python",
   "name": "python3"
  },
  "language_info": {
   "codemirror_mode": {
    "name": "ipython",
    "version": 3
   },
   "file_extension": ".py",
   "mimetype": "text/x-python",
   "name": "python",
   "nbconvert_exporter": "python",
   "pygments_lexer": "ipython3",
   "version": "3.6.8"
  }
 },
 "nbformat": 4,
 "nbformat_minor": 2
}
