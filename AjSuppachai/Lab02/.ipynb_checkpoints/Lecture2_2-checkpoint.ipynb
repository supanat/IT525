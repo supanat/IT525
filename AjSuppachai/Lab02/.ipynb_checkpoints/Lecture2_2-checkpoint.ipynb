{
 "cells": [
  {
   "cell_type": "code",
   "execution_count": 5,
   "metadata": {
    "collapsed": true
   },
   "outputs": [],
   "source": [
    "import pandas as pd\n",
    "import os\n",
    "\n",
    "path = os.chdir('/Users/supanat/Dev/DS/Lab02')\n",
    "filename = 'Purchase Orders.xlsx'\n",
    "df = pd.read_excel(filename, sheetname='Data', skiprows=2)"
   ]
  },
  {
   "cell_type": "code",
   "execution_count": 10,
   "metadata": {},
   "outputs": [
    {
     "name": "stdout",
     "output_type": "stream",
     "text": [
      "-33390.34324411993\n",
      "85980.98154199228\n",
      "94\n"
     ]
    }
   ],
   "source": [
    "#df\n",
    "\n",
    "x_bar = df['Cost per order'].mean()\n",
    "sd = df['Cost per order'].std()\n",
    "lower_limit = x_bar - 2* sd  # 2 is k from slide page 50,51\n",
    "upper_limit = x_bar +2 * sd\n",
    "print(lower_limit)\n",
    "print(upper_limit)\n",
    "\n",
    "print(len(df['Cost per order']))"
   ]
  },
  {
   "cell_type": "code",
   "execution_count": 11,
   "metadata": {},
   "outputs": [
    {
     "data": {
      "text/plain": [
       "70.5"
      ]
     },
     "execution_count": 11,
     "metadata": {},
     "output_type": "execute_result"
    }
   ],
   "source": [
    "0.75 * len(df['Cost per order'])"
   ]
  },
  {
   "cell_type": "code",
   "execution_count": null,
   "metadata": {
    "collapsed": true
   },
   "outputs": [],
   "source": [
    "def countDataPoint(lst):\n",
    "    "
   ]
  }
 ],
 "metadata": {
  "kernelspec": {
   "display_name": "Python 3",
   "language": "python",
   "name": "python3"
  },
  "language_info": {
   "codemirror_mode": {
    "name": "ipython",
    "version": 3
   },
   "file_extension": ".py",
   "mimetype": "text/x-python",
   "name": "python",
   "nbconvert_exporter": "python",
   "pygments_lexer": "ipython3",
   "version": "3.6.3"
  }
 },
 "nbformat": 4,
 "nbformat_minor": 2
}
